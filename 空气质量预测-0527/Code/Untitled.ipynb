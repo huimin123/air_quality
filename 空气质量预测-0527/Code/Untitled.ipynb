{
 "cells": [
  {
   "cell_type": "code",
   "execution_count": 210,
   "metadata": {},
   "outputs": [],
   "source": [
    "import pandas as pd\n",
    "import numpy as np"
   ]
  },
  {
   "cell_type": "code",
   "execution_count": 1479,
   "metadata": {},
   "outputs": [
    {
     "data": {
      "text/plain": [
       "0                PM2.5\n",
       "30                PM10\n",
       "154         PM10,PM2.5\n",
       "208                  -\n",
       "585                NaN\n",
       "2467            O3-1小时\n",
       "2565       PM10,O3-1小时\n",
       "2814               NO2\n",
       "3169          NO2,PM10\n",
       "3597      O3-1小时,PM2.5\n",
       "7814    NO2,PM10,PM2.5\n",
       "Name: PRIMARY_POLLUTANTS_, dtype: object"
      ]
     },
     "execution_count": 1479,
     "metadata": {},
     "output_type": "execute_result"
    }
   ],
   "source": [
    "datat = pd.read_csv(\"../train/train_十里店.csv\")\n",
    "datat.drop(3433,inplace=True)\n",
    "datat['PRIMARY_POLLUTANTS_'].drop_duplicates()"
   ]
  },
  {
   "cell_type": "code",
   "execution_count": 1467,
   "metadata": {},
   "outputs": [],
   "source": [
    "data = pd.read_csv(\"../train/train_三瓦窑.csv\")\n",
    "data.drop(3433,inplace=True)"
   ]
  },
  {
   "cell_type": "code",
   "execution_count": 1468,
   "metadata": {},
   "outputs": [
    {
     "data": {
      "text/plain": [
       "0              PM2.5\n",
       "85              PM10\n",
       "157       PM10,PM2.5\n",
       "210                -\n",
       "1046             NaN\n",
       "1728             NO2\n",
       "1886          O3-1小时\n",
       "2479        NO2,PM10\n",
       "2563     PM10,O3-1小时\n",
       "4862    O3-1小时,PM2.5\n",
       "8055       NO2,PM2.5\n",
       "Name: PRIMARY_POLLUTANTS_, dtype: object"
      ]
     },
     "execution_count": 1468,
     "metadata": {},
     "output_type": "execute_result"
    }
   ],
   "source": [
    "data['PRIMARY_POLLUTANTS_'].drop_duplicates()"
   ]
  },
  {
   "cell_type": "code",
   "execution_count": 916,
   "metadata": {},
   "outputs": [],
   "source": [
    "date=list()\n",
    "for i in range(12):\n",
    "    month=[31,28,31,30,24,30,31,31,30,31,30,24]\n",
    "    for j in range(1,month[i]+1):\n",
    "        for k in range(24):\n",
    "            a='2017/{0}/{1} {2:02d}:00:00'.format(i+1,j,k)\n",
    "            date.append(a)"
   ]
  },
  {
   "cell_type": "code",
   "execution_count": 917,
   "metadata": {},
   "outputs": [],
   "source": [
    "date=pd.DataFrame(date)\n",
    "ab=data.set_index('DATA_TIME_')\n",
    "bc=date.set_index(0)"
   ]
  },
  {
   "cell_type": "code",
   "execution_count": 1290,
   "metadata": {},
   "outputs": [],
   "source": [
    "data=pd.concat([ab,bc],axis=1,sort=True)\n",
    "add=list()\n",
    "addday=list()\n",
    "for i in range(8424):\n",
    "    add.append(i%24+1)\n",
    "    addday.append(int(i%168/(24)))\n",
    "data['hour']=add\n",
    "data['day']=addday\n",
    "data = data.reset_index(drop=True)"
   ]
  },
  {
   "cell_type": "code",
   "execution_count": 705,
   "metadata": {
    "collapsed": true
   },
   "outputs": [
    {
     "name": "stdout",
     "output_type": "stream",
     "text": [
      "(31,) 1\n",
      "(28,) 0\n",
      "(31,) 12\n",
      "(30,) 6\n",
      "(25,) 27\n",
      "(30,) 0\n",
      "(31,) 0\n",
      "(31,) 7\n",
      "(30,) 2\n",
      "(31,) 0\n",
      "(30,) 0\n",
      "(24,) 13\n"
     ]
    }
   ],
   "source": [
    "# for j in range(1,13):\n",
    "#     day=list()\n",
    "#     for i in range(data.shape[0]):\n",
    "#         if data['DATA_TIME_'][i].split('/')[1]==str(j):\n",
    "#             day.append(data['DATA_TIME_'][i].split('/')[2].split(' ')[0])\n",
    "#     days=pd.Series(day)\n",
    "#     print(days.drop_duplicates().shape,days.drop_duplicates().shape[0]*24-days.shape[0])"
   ]
  },
  {
   "cell_type": "code",
   "execution_count": 1457,
   "metadata": {},
   "outputs": [],
   "source": [
    "X=data.drop(['UPDATE_TIME_','MN_','SOURCE_','CATEGORY_','COLOR_','STATE_'],axis=1)"
   ]
  },
  {
   "cell_type": "code",
   "execution_count": 1458,
   "metadata": {},
   "outputs": [],
   "source": [
    "def delcolumns(X):\n",
    "    indx=list()\n",
    "    for i in range(X.shape[1]):\n",
    "        a=X.iloc[:,i].isnull().sum()\n",
    "        if a/X.shape[0]>0.5:\n",
    "            indx.append(i)\n",
    "    X=X.drop(X.columns[indx],axis=1)\n",
    "    return X\n",
    "X=delcolumns(X)"
   ]
  },
  {
   "cell_type": "code",
   "execution_count": 1459,
   "metadata": {},
   "outputs": [],
   "source": [
    "def hanNaN(X):\n",
    "    for feature_num,feature in enumerate(X.columns):\n",
    "        feature_index=X[X[feature].isnull()].index\n",
    "        for i in range(len(feature_index)):\n",
    "            if feature_index[i]==0:\n",
    "                j=feature_index[i]+1\n",
    "                while j in feature_index:\n",
    "                    j=j+1\n",
    "                X.iloc[feature_index[i],feature_num]=X.iloc[j,feature_num]\n",
    "            else:\n",
    "                j=feature_index[i]\n",
    "\n",
    "                while j in feature_index:\n",
    "                    j=j-1\n",
    "                    if j==0:\n",
    "                        break\n",
    "                X.iloc[feature_index[i],feature_num]=X.iloc[j,feature_num]\n",
    "    return X\n",
    "X=hanNaN(X)"
   ]
  },
  {
   "cell_type": "code",
   "execution_count": 1460,
   "metadata": {},
   "outputs": [],
   "source": [
    "LEVEL_mapping = {\n",
    "    '六级': 6,\n",
    "    '五级': 5,      \n",
    "    '四级': 4,\n",
    "    '三级': 3,\n",
    "    '二级': 2,\n",
    "    '一级': 1}\n",
    "X['LEVEL_']=X['LEVEL_'].map(LEVEL_mapping)"
   ]
  },
  {
   "cell_type": "code",
   "execution_count": 1461,
   "metadata": {},
   "outputs": [
    {
     "data": {
      "text/plain": [
       "(8424, 17)"
      ]
     },
     "execution_count": 1461,
     "metadata": {},
     "output_type": "execute_result"
    }
   ],
   "source": [
    "X.shape"
   ]
  },
  {
   "cell_type": "code",
   "execution_count": 1462,
   "metadata": {},
   "outputs": [],
   "source": [
    "X=pd.get_dummies(X) "
   ]
  },
  {
   "cell_type": "code",
   "execution_count": 1463,
   "metadata": {},
   "outputs": [],
   "source": [
    "Y=X['AQI_']\n",
    "X.columns=range(X.shape[1])"
   ]
  },
  {
   "cell_type": "code",
   "execution_count": null,
   "metadata": {},
   "outputs": [],
   "source": [
    "#df.equals(exactly_equal)\n",
    "#X[14][X[14]=='saf']\n",
    "#X[16].drop_duplicates()"
   ]
  },
  {
   "cell_type": "code",
   "execution_count": 969,
   "metadata": {},
   "outputs": [],
   "source": [
    "# i=24*7\n",
    "# X=X.iloc[:(-i),:]\n",
    "# Y=Y.iloc[i:]"
   ]
  },
  {
   "cell_type": "code",
   "execution_count": 1464,
   "metadata": {},
   "outputs": [],
   "source": [
    "X_train=X.iloc[:130*24,:]\n",
    "y_train=Y.iloc[24*7:137*24]\n",
    "X_test=X.iloc[130*24:137*24,:]\n",
    "y_test=Y.iloc[137*24:144*24]"
   ]
  },
  {
   "cell_type": "code",
   "execution_count": 1298,
   "metadata": {},
   "outputs": [],
   "source": [
    "from sklearn.utils import shuffle"
   ]
  },
  {
   "cell_type": "code",
   "execution_count": 1465,
   "metadata": {},
   "outputs": [],
   "source": [
    "X_train, y_train = shuffle(X_train, y_train)"
   ]
  },
  {
   "cell_type": "code",
   "execution_count": 1152,
   "metadata": {},
   "outputs": [],
   "source": [
    "from sklearn.model_selection import train_test_split\n",
    "X_train,X_test,y_train,y_test =train_test_split(X_train, y_train,test_size=0.2)"
   ]
  },
  {
   "cell_type": "code",
   "execution_count": 1387,
   "metadata": {},
   "outputs": [],
   "source": [
    "params = {'n_estimators': 50,\n",
    "          'max_depth': 9,\n",
    "          'min_samples_split': 2,\n",
    "          'learning_rate': 0.01,\n",
    "          'loss': 'ls'}"
   ]
  },
  {
   "cell_type": "code",
   "execution_count": 1389,
   "metadata": {
    "scrolled": false
   },
   "outputs": [
    {
     "data": {
      "text/plain": [
       "GradientBoostingRegressor(alpha=0.9, criterion='friedman_mse', init=None,\n",
       "                          learning_rate=0.01, loss='ls', max_depth=9,\n",
       "                          max_features=None, max_leaf_nodes=None,\n",
       "                          min_impurity_decrease=0.0, min_impurity_split=None,\n",
       "                          min_samples_leaf=1, min_samples_split=2,\n",
       "                          min_weight_fraction_leaf=0.0, n_estimators=50,\n",
       "                          n_iter_no_change=None, presort='auto',\n",
       "                          random_state=None, subsample=1.0, tol=0.0001,\n",
       "                          validation_fraction=0.1, verbose=0, warm_start=False)"
      ]
     },
     "execution_count": 1389,
     "metadata": {},
     "output_type": "execute_result"
    }
   ],
   "source": [
    "from sklearn import datasets, ensemble\n",
    "reg = ensemble.GradientBoostingRegressor(**params)\n",
    "reg.fit(X_train, y_train)\n",
    "y_pred=reg.predict(X_test)"
   ]
  },
  {
   "cell_type": "code",
   "execution_count": 1221,
   "metadata": {},
   "outputs": [
    {
     "name": "stdout",
     "output_type": "stream",
     "text": [
      "[19:59:33] WARNING: /opt/conda/conda-bld/xgboost_1560800456086/work/src/objective/regression_obj.cu:152: reg:linear is now deprecated in favor of reg:squarederror.\n"
     ]
    }
   ],
   "source": [
    "import xgboost as xgb\n",
    "reg = xgb.XGBRegressor(objective ='reg:linear', colsample_bytree = 0.3, learning_rate = 0.1,\n",
    "                max_depth = 5, alpha = 10, n_estimators =30)\n",
    "reg.fit(X_train,y_train)\n",
    "y_pred = reg.predict(X_test)"
   ]
  },
  {
   "cell_type": "code",
   "execution_count": 1388,
   "metadata": {},
   "outputs": [],
   "source": [
    "import matplotlib.pyplot as plt\n",
    "import seaborn as sns\n",
    "\n",
    "%matplotlib inline"
   ]
  },
  {
   "cell_type": "code",
   "execution_count": 1390,
   "metadata": {
    "scrolled": false
   },
   "outputs": [
    {
     "data": {
      "image/png": "[encoded data removed]",
      "text/plain": [
       "<Figure size 432x432 with 1 Axes>"
      ]
     },
     "metadata": {
      "needs_background": "light"
     },
     "output_type": "display_data"
    }
   ],
   "source": [
    "test_score = np.zeros((params['n_estimators'],), dtype=np.float64)\n",
    "for i, y_pred in enumerate(reg.staged_predict(X_test)):\n",
    "    test_score[i] = reg.loss_(y_test, y_pred)\n",
    "\n",
    "fig = plt.figure(figsize=(6, 6))\n",
    "plt.subplot(1, 1, 1)\n",
    "plt.title('Deviance')\n",
    "plt.plot(np.arange(params['n_estimators']) + 1, reg.train_score_, 'b-',\n",
    "         label='Training Set Deviance')\n",
    "plt.plot(np.arange(params['n_estimators']) + 1, test_score, 'r-',\n",
    "         label='Test Set Deviance')\n",
    "plt.legend(loc='upper right')\n",
    "plt.xlabel('Boosting Iterations')\n",
    "plt.ylabel('Deviance')\n",
    "fig.tight_layout()\n",
    "plt.show()"
   ]
  },
  {
   "cell_type": "code",
   "execution_count": 1391,
   "metadata": {
    "scrolled": false
   },
   "outputs": [
    {
     "data": {
      "text/plain": [
       "[<matplotlib.lines.Line2D at 0x7f891835ec10>]"
      ]
     },
     "execution_count": 1391,
     "metadata": {},
     "output_type": "execute_result"
    },
    {
     "data": {
      "image/png": "[encoded data removed]",
      "text/plain": [
       "<Figure size 2160x720 with 1 Axes>"
      ]
     },
     "metadata": {
      "needs_background": "light"
     },
     "output_type": "display_data"
    }
   ],
   "source": [
    "y=y_test.values\n",
    "plt.rcParams['figure.figsize'] = (30, 10.0)\n",
    "plt.plot(y_pred[:100],marker='*', ls='-',color='red', label='data', alpha=1)\n",
    "plt.plot(y[:100],marker='', ls='-',color='blue', label='data', alpha=1)"
   ]
  },
  {
   "cell_type": "code",
   "execution_count": 1392,
   "metadata": {
    "scrolled": true
   },
   "outputs": [
    {
     "data": {
      "text/plain": [
       "41.94521573206539"
      ]
     },
     "execution_count": 1392,
     "metadata": {},
     "output_type": "execute_result"
    }
   ],
   "source": [
    "score = np.sqrt(((y_pred - y_test) ** 2).mean()) \n",
    "score"
   ]
  },
  {
   "cell_type": "code",
   "execution_count": 1327,
   "metadata": {},
   "outputs": [
    {
     "ename": "NameError",
     "evalue": "name 'ParameterGrid' is not defined",
     "output_type": "error",
     "traceback": [
      "\u001b[0;31m---------------------------------------------------------------------------\u001b[0m",
      "\u001b[0;31mNameError\u001b[0m                                 Traceback (most recent call last)",
      "\u001b[0;32m<ipython-input-1327-72828cdcb7ee>\u001b[0m in \u001b[0;36m<module>\u001b[0;34m\u001b[0m\n\u001b[0;32m----> 1\u001b[0;31m \u001b[0mhelp\u001b[0m\u001b[0;34m(\u001b[0m\u001b[0mParameterGrid\u001b[0m\u001b[0;34m)\u001b[0m\u001b[0;34m\u001b[0m\u001b[0;34m\u001b[0m\u001b[0m\n\u001b[0m",
      "\u001b[0;31mNameError\u001b[0m: name 'ParameterGrid' is not defined"
     ]
    }
   ],
   "source": [
    "help(ParameterGrid)"
   ]
  },
  {
   "cell_type": "code",
   "execution_count": 1362,
   "metadata": {},
   "outputs": [],
   "source": [
    "from sklearn.model_selection import ParameterGrid"
   ]
  },
  {
   "cell_type": "code",
   "execution_count": 1368,
   "metadata": {
    "collapsed": true
   },
   "outputs": [
    {
     "name": "stdout",
     "output_type": "stream",
     "text": [
      "{'max_depth': 1, 'min_samples_split': 2, 'n_estimators': 100}\n",
      "{'max_depth': 1, 'min_samples_split': 3, 'n_estimators': 100}\n",
      "{'max_depth': 1, 'min_samples_split': 4, 'n_estimators': 100}\n",
      "{'max_depth': 1, 'min_samples_split': 5, 'n_estimators': 100}\n",
      "{'max_depth': 1, 'min_samples_split': 6, 'n_estimators': 100}\n",
      "{'max_depth': 1, 'min_samples_split': 7, 'n_estimators': 100}\n",
      "{'max_depth': 1, 'min_samples_split': 8, 'n_estimators': 100}\n",
      "{'max_depth': 1, 'min_samples_split': 9, 'n_estimators': 100}\n",
      "{'max_depth': 2, 'min_samples_split': 2, 'n_estimators': 100}\n",
      "{'max_depth': 2, 'min_samples_split': 3, 'n_estimators': 100}\n",
      "{'max_depth': 2, 'min_samples_split': 4, 'n_estimators': 100}\n",
      "{'max_depth': 2, 'min_samples_split': 5, 'n_estimators': 100}\n",
      "{'max_depth': 2, 'min_samples_split': 6, 'n_estimators': 100}\n",
      "{'max_depth': 2, 'min_samples_split': 7, 'n_estimators': 100}\n",
      "{'max_depth': 2, 'min_samples_split': 8, 'n_estimators': 100}\n",
      "{'max_depth': 2, 'min_samples_split': 9, 'n_estimators': 100}\n",
      "{'max_depth': 3, 'min_samples_split': 2, 'n_estimators': 100}\n",
      "{'max_depth': 3, 'min_samples_split': 3, 'n_estimators': 100}\n",
      "{'max_depth': 3, 'min_samples_split': 4, 'n_estimators': 100}\n",
      "{'max_depth': 3, 'min_samples_split': 5, 'n_estimators': 100}\n",
      "{'max_depth': 3, 'min_samples_split': 6, 'n_estimators': 100}\n",
      "{'max_depth': 3, 'min_samples_split': 7, 'n_estimators': 100}\n",
      "{'max_depth': 3, 'min_samples_split': 8, 'n_estimators': 100}\n",
      "{'max_depth': 3, 'min_samples_split': 9, 'n_estimators': 100}\n",
      "{'max_depth': 4, 'min_samples_split': 2, 'n_estimators': 100}\n",
      "{'max_depth': 4, 'min_samples_split': 3, 'n_estimators': 100}\n",
      "{'max_depth': 4, 'min_samples_split': 4, 'n_estimators': 100}\n",
      "{'max_depth': 4, 'min_samples_split': 5, 'n_estimators': 100}\n",
      "{'max_depth': 4, 'min_samples_split': 6, 'n_estimators': 100}\n",
      "{'max_depth': 4, 'min_samples_split': 7, 'n_estimators': 100}\n",
      "{'max_depth': 4, 'min_samples_split': 8, 'n_estimators': 100}\n",
      "{'max_depth': 4, 'min_samples_split': 9, 'n_estimators': 100}\n",
      "{'max_depth': 5, 'min_samples_split': 2, 'n_estimators': 100}\n",
      "{'max_depth': 5, 'min_samples_split': 3, 'n_estimators': 100}\n",
      "{'max_depth': 5, 'min_samples_split': 4, 'n_estimators': 100}\n",
      "{'max_depth': 5, 'min_samples_split': 5, 'n_estimators': 100}\n",
      "{'max_depth': 5, 'min_samples_split': 6, 'n_estimators': 100}\n",
      "{'max_depth': 5, 'min_samples_split': 7, 'n_estimators': 100}\n",
      "{'max_depth': 5, 'min_samples_split': 8, 'n_estimators': 100}\n",
      "{'max_depth': 5, 'min_samples_split': 9, 'n_estimators': 100}\n",
      "{'max_depth': 6, 'min_samples_split': 2, 'n_estimators': 100}\n",
      "{'max_depth': 6, 'min_samples_split': 3, 'n_estimators': 100}\n",
      "{'max_depth': 6, 'min_samples_split': 4, 'n_estimators': 100}\n",
      "{'max_depth': 6, 'min_samples_split': 5, 'n_estimators': 100}\n",
      "{'max_depth': 6, 'min_samples_split': 6, 'n_estimators': 100}\n",
      "{'max_depth': 6, 'min_samples_split': 7, 'n_estimators': 100}\n",
      "{'max_depth': 6, 'min_samples_split': 8, 'n_estimators': 100}\n",
      "{'max_depth': 6, 'min_samples_split': 9, 'n_estimators': 100}\n",
      "{'max_depth': 7, 'min_samples_split': 2, 'n_estimators': 100}\n",
      "{'max_depth': 7, 'min_samples_split': 3, 'n_estimators': 100}\n",
      "{'max_depth': 7, 'min_samples_split': 4, 'n_estimators': 100}\n",
      "{'max_depth': 7, 'min_samples_split': 5, 'n_estimators': 100}\n",
      "{'max_depth': 7, 'min_samples_split': 6, 'n_estimators': 100}\n",
      "{'max_depth': 7, 'min_samples_split': 7, 'n_estimators': 100}\n",
      "{'max_depth': 7, 'min_samples_split': 8, 'n_estimators': 100}\n",
      "{'max_depth': 7, 'min_samples_split': 9, 'n_estimators': 100}\n",
      "{'max_depth': 8, 'min_samples_split': 2, 'n_estimators': 100}\n",
      "{'max_depth': 8, 'min_samples_split': 3, 'n_estimators': 100}\n",
      "{'max_depth': 8, 'min_samples_split': 4, 'n_estimators': 100}\n",
      "{'max_depth': 8, 'min_samples_split': 5, 'n_estimators': 100}\n",
      "{'max_depth': 8, 'min_samples_split': 6, 'n_estimators': 100}\n",
      "{'max_depth': 8, 'min_samples_split': 7, 'n_estimators': 100}\n",
      "{'max_depth': 8, 'min_samples_split': 8, 'n_estimators': 100}\n",
      "{'max_depth': 8, 'min_samples_split': 9, 'n_estimators': 100}\n",
      "{'max_depth': 9, 'min_samples_split': 2, 'n_estimators': 100}\n",
      "{'max_depth': 9, 'min_samples_split': 3, 'n_estimators': 100}\n",
      "{'max_depth': 9, 'min_samples_split': 4, 'n_estimators': 100}\n",
      "{'max_depth': 9, 'min_samples_split': 5, 'n_estimators': 100}\n",
      "{'max_depth': 9, 'min_samples_split': 6, 'n_estimators': 100}\n",
      "{'max_depth': 9, 'min_samples_split': 7, 'n_estimators': 100}\n",
      "{'max_depth': 9, 'min_samples_split': 8, 'n_estimators': 100}\n",
      "{'max_depth': 9, 'min_samples_split': 9, 'n_estimators': 100}\n"
     ]
    }
   ],
   "source": [
    "for i in ParameterGrid(parameters):"
   ]
  },
  {
   "cell_type": "code",
   "execution_count": 1404,
   "metadata": {},
   "outputs": [],
   "source": [
    "parameters={'max_depth':range(1,10),'n_estimators':[10,30,50,70,100,150,200],'min_samples_split':range(2,10)}"
   ]
  },
  {
   "cell_type": "code",
   "execution_count": 1405,
   "metadata": {},
   "outputs": [
    {
     "name": "stdout",
     "output_type": "stream",
     "text": [
      "score: 40.48618\n",
      "Grid: {'max_depth': 6, 'min_samples_split': 5, 'n_estimators': 30}\n"
     ]
    }
   ],
   "source": [
    "best_score=float('inf')\n",
    "for g in ParameterGrid(parameters):\n",
    "    reg.set_params(**g)\n",
    "    reg.fit(X_train,y_train)\n",
    "    y_pred=reg.predict(X_test)\n",
    "    # save if best\n",
    "    score = np.sqrt(((y_pred - y_test) ** 2).mean())\n",
    "    if score < best_score:\n",
    "        best_score = score\n",
    "        best_grid = g\n",
    "\n",
    "print(\"score: %0.5f\" % best_score)\n",
    "print(\"Grid:\", best_grid)"
   ]
  },
  {
   "cell_type": "code",
   "execution_count": 1407,
   "metadata": {},
   "outputs": [
    {
     "data": {
      "text/plain": [
       "{'alpha': 0.9,\n",
       " 'criterion': 'friedman_mse',\n",
       " 'init': None,\n",
       " 'learning_rate': 0.01,\n",
       " 'loss': 'ls',\n",
       " 'max_depth': 9,\n",
       " 'max_features': None,\n",
       " 'max_leaf_nodes': None,\n",
       " 'min_impurity_decrease': 0.0,\n",
       " 'min_impurity_split': None,\n",
       " 'min_samples_leaf': 1,\n",
       " 'min_samples_split': 9,\n",
       " 'min_weight_fraction_leaf': 0.0,\n",
       " 'n_estimators': 200,\n",
       " 'n_iter_no_change': None,\n",
       " 'presort': 'auto',\n",
       " 'random_state': None,\n",
       " 'subsample': 1.0,\n",
       " 'tol': 0.0001,\n",
       " 'validation_fraction': 0.1,\n",
       " 'verbose': 0,\n",
       " 'warm_start': False}"
      ]
     },
     "execution_count": 1407,
     "metadata": {},
     "output_type": "execute_result"
    }
   ],
   "source": [
    "reg.get_params(deep=True)"
   ]
  },
  {
   "cell_type": "code",
   "execution_count": 394,
   "metadata": {
    "scrolled": false
   },
   "outputs": [
    {
     "data": {
      "text/plain": [
       "{'alpha': 0.9,\n",
       " 'criterion': 'friedman_mse',\n",
       " 'init': None,\n",
       " 'learning_rate': 0.1,\n",
       " 'loss': 'ls',\n",
       " 'max_depth': 3,\n",
       " 'max_features': None,\n",
       " 'max_leaf_nodes': None,\n",
       " 'min_impurity_decrease': 0.0,\n",
       " 'min_impurity_split': None,\n",
       " 'min_samples_leaf': 1,\n",
       " 'min_samples_split': 2,\n",
       " 'min_weight_fraction_leaf': 0.0,\n",
       " 'n_estimators': 100,\n",
       " 'n_iter_no_change': None,\n",
       " 'presort': 'auto',\n",
       " 'random_state': None,\n",
       " 'subsample': 1.0,\n",
       " 'tol': 0.0001,\n",
       " 'validation_fraction': 0.1,\n",
       " 'verbose': 0,\n",
       " 'warm_start': False}"
      ]
     },
     "execution_count": 394,
     "metadata": {},
     "output_type": "execute_result"
    }
   ],
   "source": [
    "ensemble.GradientBoostingRegressor().get_params(deep=True)"
   ]
  },
  {
   "cell_type": "code",
   "execution_count": 1369,
   "metadata": {},
   "outputs": [],
   "source": [
    "def score(y_pred,y_test):\n",
    "    c=-np.sqrt(((np.array(y_pred) - np.array(y_test)) ** 2).mean())\n",
    "    return c"
   ]
  },
  {
   "cell_type": "code",
   "execution_count": null,
   "metadata": {},
   "outputs": [],
   "source": [
    "cv = [(slice(None), slice(None))]"
   ]
  },
  {
   "cell_type": "code",
   "execution_count": 1370,
   "metadata": {},
   "outputs": [],
   "source": [
    "from sklearn.model_selection import KFold\n",
    "from sklearn.metrics import make_scorer,accuracy_score,mean_absolute_error\n",
    "\n",
    "parameters={'max_depth':range(1,10),'n_estimators':[100],'min_samples_split':range(2,10)}\n",
    "scoring_fnc = make_scorer(score)\n",
    "kfold=KFold(n_splits=5)"
   ]
  },
  {
   "cell_type": "code",
   "execution_count": 330,
   "metadata": {},
   "outputs": [],
   "source": [
    "# for train_index,test_index in kfold.split(range(6)):\n",
    "\n",
    "#     print('TRAIN:',train_index,\"TEST\",test_index)"
   ]
  },
  {
   "cell_type": "code",
   "execution_count": 591,
   "metadata": {},
   "outputs": [],
   "source": [
    "params = {'learning_rate': 0.01,\n",
    "          'loss': 'ls'}"
   ]
  },
  {
   "cell_type": "code",
   "execution_count": 1371,
   "metadata": {},
   "outputs": [],
   "source": [
    "from sklearn.model_selection import GridSearchCV\n",
    "grid = GridSearchCV(ensemble.GradientBoostingRegressor(**params),parameters,scoring_fnc,cv=kfold)"
   ]
  },
  {
   "cell_type": "code",
   "execution_count": 1372,
   "metadata": {
    "scrolled": false
   },
   "outputs": [],
   "source": [
    "grid=grid.fit(X_train,y_train)"
   ]
  },
  {
   "cell_type": "code",
   "execution_count": 1373,
   "metadata": {},
   "outputs": [],
   "source": [
    "reg = grid.best_estimator_"
   ]
  },
  {
   "cell_type": "code",
   "execution_count": 1374,
   "metadata": {},
   "outputs": [
    {
     "data": {
      "text/plain": [
       "-52.80962042704255"
      ]
     },
     "execution_count": 1374,
     "metadata": {},
     "output_type": "execute_result"
    }
   ],
   "source": [
    "grid.best_score_"
   ]
  },
  {
   "cell_type": "code",
   "execution_count": 1375,
   "metadata": {},
   "outputs": [
    {
     "name": "stdout",
     "output_type": "stream",
     "text": [
      "max_depth: 9\n",
      "n_estimators: 100\n",
      "min_samples_split: 2\n"
     ]
    }
   ],
   "source": [
    "for key in parameters.keys():\n",
    "    print('%s: %d' % (key,reg.get_params()[key]))"
   ]
  },
  {
   "cell_type": "code",
   "execution_count": 1376,
   "metadata": {},
   "outputs": [
    {
     "data": {
      "text/html": [
       "<div>\n",
       "<style scoped>\n",
       "    .dataframe tbody tr th:only-of-type {\n",
       "        vertical-align: middle;\n",
       "    }\n",
       "\n",
       "    .dataframe tbody tr th {\n",
       "        vertical-align: top;\n",
       "    }\n",
       "\n",
       "    .dataframe thead th {\n",
       "        text-align: right;\n",
       "    }\n",
       "</style>\n",
       "<table border=\"1\" class=\"dataframe\">\n",
       "  <thead>\n",
       "    <tr style=\"text-align: right;\">\n",
       "      <th></th>\n",
       "      <th>0</th>\n",
       "      <th>1</th>\n",
       "      <th>2</th>\n",
       "      <th>3</th>\n",
       "      <th>4</th>\n",
       "      <th>5</th>\n",
       "      <th>6</th>\n",
       "      <th>7</th>\n",
       "      <th>8</th>\n",
       "      <th>9</th>\n",
       "      <th>...</th>\n",
       "      <th>62</th>\n",
       "      <th>63</th>\n",
       "      <th>64</th>\n",
       "      <th>65</th>\n",
       "      <th>66</th>\n",
       "      <th>67</th>\n",
       "      <th>68</th>\n",
       "      <th>69</th>\n",
       "      <th>70</th>\n",
       "      <th>71</th>\n",
       "    </tr>\n",
       "  </thead>\n",
       "  <tbody>\n",
       "    <tr>\n",
       "      <td>mean_fit_time</td>\n",
       "      <td>0.136355</td>\n",
       "      <td>0.134727</td>\n",
       "      <td>0.132781</td>\n",
       "      <td>0.132675</td>\n",
       "      <td>0.132441</td>\n",
       "      <td>0.132358</td>\n",
       "      <td>0.132521</td>\n",
       "      <td>0.132169</td>\n",
       "      <td>0.275219</td>\n",
       "      <td>0.277776</td>\n",
       "      <td>...</td>\n",
       "      <td>1.88578</td>\n",
       "      <td>1.86598</td>\n",
       "      <td>2.79908</td>\n",
       "      <td>2.64744</td>\n",
       "      <td>2.55147</td>\n",
       "      <td>2.4977</td>\n",
       "      <td>2.4007</td>\n",
       "      <td>2.35315</td>\n",
       "      <td>2.29729</td>\n",
       "      <td>2.26258</td>\n",
       "    </tr>\n",
       "    <tr>\n",
       "      <td>std_fit_time</td>\n",
       "      <td>0.00391302</td>\n",
       "      <td>0.000930535</td>\n",
       "      <td>0.000247222</td>\n",
       "      <td>0.000402274</td>\n",
       "      <td>0.000214684</td>\n",
       "      <td>0.000439587</td>\n",
       "      <td>0.000427552</td>\n",
       "      <td>0.000202744</td>\n",
       "      <td>0.00367756</td>\n",
       "      <td>0.00615469</td>\n",
       "      <td>...</td>\n",
       "      <td>0.0417169</td>\n",
       "      <td>0.0407087</td>\n",
       "      <td>0.0534292</td>\n",
       "      <td>0.0504111</td>\n",
       "      <td>0.0424029</td>\n",
       "      <td>0.0552815</td>\n",
       "      <td>0.0459694</td>\n",
       "      <td>0.0445419</td>\n",
       "      <td>0.0510968</td>\n",
       "      <td>0.0442054</td>\n",
       "    </tr>\n",
       "    <tr>\n",
       "      <td>mean_score_time</td>\n",
       "      <td>0.00243559</td>\n",
       "      <td>0.00276647</td>\n",
       "      <td>0.00224252</td>\n",
       "      <td>0.00229816</td>\n",
       "      <td>0.00227895</td>\n",
       "      <td>0.00226622</td>\n",
       "      <td>0.00222912</td>\n",
       "      <td>0.00221987</td>\n",
       "      <td>0.00325875</td>\n",
       "      <td>0.00336437</td>\n",
       "      <td>...</td>\n",
       "      <td>0.0082366</td>\n",
       "      <td>0.00810437</td>\n",
       "      <td>0.0103125</td>\n",
       "      <td>0.00963774</td>\n",
       "      <td>0.00959587</td>\n",
       "      <td>0.0101577</td>\n",
       "      <td>0.00940166</td>\n",
       "      <td>0.00931244</td>\n",
       "      <td>0.00971041</td>\n",
       "      <td>0.00929432</td>\n",
       "    </tr>\n",
       "    <tr>\n",
       "      <td>std_score_time</td>\n",
       "      <td>0.000318365</td>\n",
       "      <td>0.00066948</td>\n",
       "      <td>2.13303e-05</td>\n",
       "      <td>3.2983e-05</td>\n",
       "      <td>0.000154547</td>\n",
       "      <td>6.67615e-05</td>\n",
       "      <td>3.89543e-05</td>\n",
       "      <td>5.32413e-05</td>\n",
       "      <td>0.000346873</td>\n",
       "      <td>0.000229299</td>\n",
       "      <td>...</td>\n",
       "      <td>0.000109977</td>\n",
       "      <td>5.09746e-05</td>\n",
       "      <td>0.00093054</td>\n",
       "      <td>0.000195362</td>\n",
       "      <td>0.000179653</td>\n",
       "      <td>0.000709261</td>\n",
       "      <td>0.000139673</td>\n",
       "      <td>0.000136368</td>\n",
       "      <td>0.000528304</td>\n",
       "      <td>0.000157144</td>\n",
       "    </tr>\n",
       "    <tr>\n",
       "      <td>param_max_depth</td>\n",
       "      <td>1</td>\n",
       "      <td>1</td>\n",
       "      <td>1</td>\n",
       "      <td>1</td>\n",
       "      <td>1</td>\n",
       "      <td>1</td>\n",
       "      <td>1</td>\n",
       "      <td>1</td>\n",
       "      <td>2</td>\n",
       "      <td>2</td>\n",
       "      <td>...</td>\n",
       "      <td>8</td>\n",
       "      <td>8</td>\n",
       "      <td>9</td>\n",
       "      <td>9</td>\n",
       "      <td>9</td>\n",
       "      <td>9</td>\n",
       "      <td>9</td>\n",
       "      <td>9</td>\n",
       "      <td>9</td>\n",
       "      <td>9</td>\n",
       "    </tr>\n",
       "    <tr>\n",
       "      <td>param_min_samples_split</td>\n",
       "      <td>2</td>\n",
       "      <td>3</td>\n",
       "      <td>4</td>\n",
       "      <td>5</td>\n",
       "      <td>6</td>\n",
       "      <td>7</td>\n",
       "      <td>8</td>\n",
       "      <td>9</td>\n",
       "      <td>2</td>\n",
       "      <td>3</td>\n",
       "      <td>...</td>\n",
       "      <td>8</td>\n",
       "      <td>9</td>\n",
       "      <td>2</td>\n",
       "      <td>3</td>\n",
       "      <td>4</td>\n",
       "      <td>5</td>\n",
       "      <td>6</td>\n",
       "      <td>7</td>\n",
       "      <td>8</td>\n",
       "      <td>9</td>\n",
       "    </tr>\n",
       "    <tr>\n",
       "      <td>param_n_estimators</td>\n",
       "      <td>100</td>\n",
       "      <td>100</td>\n",
       "      <td>100</td>\n",
       "      <td>100</td>\n",
       "      <td>100</td>\n",
       "      <td>100</td>\n",
       "      <td>100</td>\n",
       "      <td>100</td>\n",
       "      <td>100</td>\n",
       "      <td>100</td>\n",
       "      <td>...</td>\n",
       "      <td>100</td>\n",
       "      <td>100</td>\n",
       "      <td>100</td>\n",
       "      <td>100</td>\n",
       "      <td>100</td>\n",
       "      <td>100</td>\n",
       "      <td>100</td>\n",
       "      <td>100</td>\n",
       "      <td>100</td>\n",
       "      <td>100</td>\n",
       "    </tr>\n",
       "    <tr>\n",
       "      <td>params</td>\n",
       "      <td>{'max_depth': 1, 'min_samples_split': 2, 'n_es...</td>\n",
       "      <td>{'max_depth': 1, 'min_samples_split': 3, 'n_es...</td>\n",
       "      <td>{'max_depth': 1, 'min_samples_split': 4, 'n_es...</td>\n",
       "      <td>{'max_depth': 1, 'min_samples_split': 5, 'n_es...</td>\n",
       "      <td>{'max_depth': 1, 'min_samples_split': 6, 'n_es...</td>\n",
       "      <td>{'max_depth': 1, 'min_samples_split': 7, 'n_es...</td>\n",
       "      <td>{'max_depth': 1, 'min_samples_split': 8, 'n_es...</td>\n",
       "      <td>{'max_depth': 1, 'min_samples_split': 9, 'n_es...</td>\n",
       "      <td>{'max_depth': 2, 'min_samples_split': 2, 'n_es...</td>\n",
       "      <td>{'max_depth': 2, 'min_samples_split': 3, 'n_es...</td>\n",
       "      <td>...</td>\n",
       "      <td>{'max_depth': 8, 'min_samples_split': 8, 'n_es...</td>\n",
       "      <td>{'max_depth': 8, 'min_samples_split': 9, 'n_es...</td>\n",
       "      <td>{'max_depth': 9, 'min_samples_split': 2, 'n_es...</td>\n",
       "      <td>{'max_depth': 9, 'min_samples_split': 3, 'n_es...</td>\n",
       "      <td>{'max_depth': 9, 'min_samples_split': 4, 'n_es...</td>\n",
       "      <td>{'max_depth': 9, 'min_samples_split': 5, 'n_es...</td>\n",
       "      <td>{'max_depth': 9, 'min_samples_split': 6, 'n_es...</td>\n",
       "      <td>{'max_depth': 9, 'min_samples_split': 7, 'n_es...</td>\n",
       "      <td>{'max_depth': 9, 'min_samples_split': 8, 'n_es...</td>\n",
       "      <td>{'max_depth': 9, 'min_samples_split': 9, 'n_es...</td>\n",
       "    </tr>\n",
       "    <tr>\n",
       "      <td>split0_test_score</td>\n",
       "      <td>-66.881</td>\n",
       "      <td>-66.881</td>\n",
       "      <td>-66.881</td>\n",
       "      <td>-66.881</td>\n",
       "      <td>-66.881</td>\n",
       "      <td>-66.881</td>\n",
       "      <td>-66.881</td>\n",
       "      <td>-66.881</td>\n",
       "      <td>-65.2827</td>\n",
       "      <td>-65.2827</td>\n",
       "      <td>...</td>\n",
       "      <td>-53.6146</td>\n",
       "      <td>-53.4222</td>\n",
       "      <td>-52.1364</td>\n",
       "      <td>-52.0623</td>\n",
       "      <td>-52.2248</td>\n",
       "      <td>-52.2313</td>\n",
       "      <td>-52.2657</td>\n",
       "      <td>-52.1668</td>\n",
       "      <td>-52.2403</td>\n",
       "      <td>-52.1515</td>\n",
       "    </tr>\n",
       "    <tr>\n",
       "      <td>split1_test_score</td>\n",
       "      <td>-69.5751</td>\n",
       "      <td>-69.5751</td>\n",
       "      <td>-69.5751</td>\n",
       "      <td>-69.5751</td>\n",
       "      <td>-69.5751</td>\n",
       "      <td>-69.5751</td>\n",
       "      <td>-69.5751</td>\n",
       "      <td>-69.5751</td>\n",
       "      <td>-68.1843</td>\n",
       "      <td>-68.1843</td>\n",
       "      <td>...</td>\n",
       "      <td>-53.9737</td>\n",
       "      <td>-54.0807</td>\n",
       "      <td>-51.6002</td>\n",
       "      <td>-51.5864</td>\n",
       "      <td>-51.5505</td>\n",
       "      <td>-51.7994</td>\n",
       "      <td>-51.8263</td>\n",
       "      <td>-52.0118</td>\n",
       "      <td>-52.1812</td>\n",
       "      <td>-52.3649</td>\n",
       "    </tr>\n",
       "    <tr>\n",
       "      <td>split2_test_score</td>\n",
       "      <td>-68.1449</td>\n",
       "      <td>-68.1449</td>\n",
       "      <td>-68.1449</td>\n",
       "      <td>-68.1449</td>\n",
       "      <td>-68.1449</td>\n",
       "      <td>-68.1449</td>\n",
       "      <td>-68.1449</td>\n",
       "      <td>-68.1449</td>\n",
       "      <td>-66.3722</td>\n",
       "      <td>-66.3722</td>\n",
       "      <td>...</td>\n",
       "      <td>-55.1198</td>\n",
       "      <td>-55.4548</td>\n",
       "      <td>-54.0048</td>\n",
       "      <td>-53.803</td>\n",
       "      <td>-53.9182</td>\n",
       "      <td>-53.822</td>\n",
       "      <td>-53.9174</td>\n",
       "      <td>-53.7152</td>\n",
       "      <td>-53.9266</td>\n",
       "      <td>-53.9173</td>\n",
       "    </tr>\n",
       "    <tr>\n",
       "      <td>split3_test_score</td>\n",
       "      <td>-70.6144</td>\n",
       "      <td>-70.6144</td>\n",
       "      <td>-70.6144</td>\n",
       "      <td>-70.6144</td>\n",
       "      <td>-70.6144</td>\n",
       "      <td>-70.6144</td>\n",
       "      <td>-70.6144</td>\n",
       "      <td>-70.6144</td>\n",
       "      <td>-69.0479</td>\n",
       "      <td>-69.0479</td>\n",
       "      <td>...</td>\n",
       "      <td>-54.717</td>\n",
       "      <td>-54.6538</td>\n",
       "      <td>-52.9629</td>\n",
       "      <td>-53.1596</td>\n",
       "      <td>-52.9825</td>\n",
       "      <td>-52.9459</td>\n",
       "      <td>-52.6064</td>\n",
       "      <td>-52.6671</td>\n",
       "      <td>-52.6395</td>\n",
       "      <td>-52.7042</td>\n",
       "    </tr>\n",
       "    <tr>\n",
       "      <td>split4_test_score</td>\n",
       "      <td>-70.5596</td>\n",
       "      <td>-70.5596</td>\n",
       "      <td>-70.5596</td>\n",
       "      <td>-70.5596</td>\n",
       "      <td>-70.5596</td>\n",
       "      <td>-70.5596</td>\n",
       "      <td>-70.5596</td>\n",
       "      <td>-70.5596</td>\n",
       "      <td>-68.6854</td>\n",
       "      <td>-68.6854</td>\n",
       "      <td>...</td>\n",
       "      <td>-55.7091</td>\n",
       "      <td>-55.6192</td>\n",
       "      <td>-53.3438</td>\n",
       "      <td>-53.6259</td>\n",
       "      <td>-53.8036</td>\n",
       "      <td>-53.4459</td>\n",
       "      <td>-53.6577</td>\n",
       "      <td>-53.5543</td>\n",
       "      <td>-53.6449</td>\n",
       "      <td>-53.6137</td>\n",
       "    </tr>\n",
       "    <tr>\n",
       "      <td>mean_test_score</td>\n",
       "      <td>-69.155</td>\n",
       "      <td>-69.155</td>\n",
       "      <td>-69.155</td>\n",
       "      <td>-69.155</td>\n",
       "      <td>-69.155</td>\n",
       "      <td>-69.155</td>\n",
       "      <td>-69.155</td>\n",
       "      <td>-69.155</td>\n",
       "      <td>-67.5145</td>\n",
       "      <td>-67.5145</td>\n",
       "      <td>...</td>\n",
       "      <td>-54.6268</td>\n",
       "      <td>-54.6462</td>\n",
       "      <td>-52.8096</td>\n",
       "      <td>-52.8474</td>\n",
       "      <td>-52.8959</td>\n",
       "      <td>-52.8489</td>\n",
       "      <td>-52.8547</td>\n",
       "      <td>-52.823</td>\n",
       "      <td>-52.9265</td>\n",
       "      <td>-52.9503</td>\n",
       "    </tr>\n",
       "    <tr>\n",
       "      <td>std_test_score</td>\n",
       "      <td>1.44711</td>\n",
       "      <td>1.44711</td>\n",
       "      <td>1.44711</td>\n",
       "      <td>1.44711</td>\n",
       "      <td>1.44711</td>\n",
       "      <td>1.44711</td>\n",
       "      <td>1.44711</td>\n",
       "      <td>1.44711</td>\n",
       "      <td>1.44616</td>\n",
       "      <td>1.44616</td>\n",
       "      <td>...</td>\n",
       "      <td>0.758119</td>\n",
       "      <td>0.826872</td>\n",
       "      <td>0.854784</td>\n",
       "      <td>0.874454</td>\n",
       "      <td>0.90962</td>\n",
       "      <td>0.747745</td>\n",
       "      <td>0.805014</td>\n",
       "      <td>0.69912</td>\n",
       "      <td>0.724586</td>\n",
       "      <td>0.695205</td>\n",
       "    </tr>\n",
       "    <tr>\n",
       "      <td>rank_test_score</td>\n",
       "      <td>65</td>\n",
       "      <td>67</td>\n",
       "      <td>67</td>\n",
       "      <td>65</td>\n",
       "      <td>67</td>\n",
       "      <td>67</td>\n",
       "      <td>67</td>\n",
       "      <td>67</td>\n",
       "      <td>57</td>\n",
       "      <td>57</td>\n",
       "      <td>...</td>\n",
       "      <td>14</td>\n",
       "      <td>15</td>\n",
       "      <td>1</td>\n",
       "      <td>3</td>\n",
       "      <td>6</td>\n",
       "      <td>4</td>\n",
       "      <td>5</td>\n",
       "      <td>2</td>\n",
       "      <td>7</td>\n",
       "      <td>8</td>\n",
       "    </tr>\n",
       "  </tbody>\n",
       "</table>\n",
       "<p>16 rows × 72 columns</p>\n",
       "</div>"
      ],
      "text/plain": [
       "                                                                        0   \\\n",
       "mean_fit_time                                                     0.136355   \n",
       "std_fit_time                                                    0.00391302   \n",
       "mean_score_time                                                 0.00243559   \n",
       "std_score_time                                                 0.000318365   \n",
       "param_max_depth                                                          1   \n",
       "param_min_samples_split                                                  2   \n",
       "param_n_estimators                                                     100   \n",
       "params                   {'max_depth': 1, 'min_samples_split': 2, 'n_es...   \n",
       "split0_test_score                                                  -66.881   \n",
       "split1_test_score                                                 -69.5751   \n",
       "split2_test_score                                                 -68.1449   \n",
       "split3_test_score                                                 -70.6144   \n",
       "split4_test_score                                                 -70.5596   \n",
       "mean_test_score                                                    -69.155   \n",
       "std_test_score                                                     1.44711   \n",
       "rank_test_score                                                         65   \n",
       "\n",
       "                                                                        1   \\\n",
       "mean_fit_time                                                     0.134727   \n",
       "std_fit_time                                                   0.000930535   \n",
       "mean_score_time                                                 0.00276647   \n",
       "std_score_time                                                  0.00066948   \n",
       "param_max_depth                                                          1   \n",
       "param_min_samples_split                                                  3   \n",
       "param_n_estimators                                                     100   \n",
       "params                   {'max_depth': 1, 'min_samples_split': 3, 'n_es...   \n",
       "split0_test_score                                                  -66.881   \n",
       "split1_test_score                                                 -69.5751   \n",
       "split2_test_score                                                 -68.1449   \n",
       "split3_test_score                                                 -70.6144   \n",
       "split4_test_score                                                 -70.5596   \n",
       "mean_test_score                                                    -69.155   \n",
       "std_test_score                                                     1.44711   \n",
       "rank_test_score                                                         67   \n",
       "\n",
       "                                                                        2   \\\n",
       "mean_fit_time                                                     0.132781   \n",
       "std_fit_time                                                   0.000247222   \n",
       "mean_score_time                                                 0.00224252   \n",
       "std_score_time                                                 2.13303e-05   \n",
       "param_max_depth                                                          1   \n",
       "param_min_samples_split                                                  4   \n",
       "param_n_estimators                                                     100   \n",
       "params                   {'max_depth': 1, 'min_samples_split': 4, 'n_es...   \n",
       "split0_test_score                                                  -66.881   \n",
       "split1_test_score                                                 -69.5751   \n",
       "split2_test_score                                                 -68.1449   \n",
       "split3_test_score                                                 -70.6144   \n",
       "split4_test_score                                                 -70.5596   \n",
       "mean_test_score                                                    -69.155   \n",
       "std_test_score                                                     1.44711   \n",
       "rank_test_score                                                         67   \n",
       "\n",
       "                                                                        3   \\\n",
       "mean_fit_time                                                     0.132675   \n",
       "std_fit_time                                                   0.000402274   \n",
       "mean_score_time                                                 0.00229816   \n",
       "std_score_time                                                  3.2983e-05   \n",
       "param_max_depth                                                          1   \n",
       "param_min_samples_split                                                  5   \n",
       "param_n_estimators                                                     100   \n",
       "params                   {'max_depth': 1, 'min_samples_split': 5, 'n_es...   \n",
       "split0_test_score                                                  -66.881   \n",
       "split1_test_score                                                 -69.5751   \n",
       "split2_test_score                                                 -68.1449   \n",
       "split3_test_score                                                 -70.6144   \n",
       "split4_test_score                                                 -70.5596   \n",
       "mean_test_score                                                    -69.155   \n",
       "std_test_score                                                     1.44711   \n",
       "rank_test_score                                                         65   \n",
       "\n",
       "                                                                        4   \\\n",
       "mean_fit_time                                                     0.132441   \n",
       "std_fit_time                                                   0.000214684   \n",
       "mean_score_time                                                 0.00227895   \n",
       "std_score_time                                                 0.000154547   \n",
       "param_max_depth                                                          1   \n",
       "param_min_samples_split                                                  6   \n",
       "param_n_estimators                                                     100   \n",
       "params                   {'max_depth': 1, 'min_samples_split': 6, 'n_es...   \n",
       "split0_test_score                                                  -66.881   \n",
       "split1_test_score                                                 -69.5751   \n",
       "split2_test_score                                                 -68.1449   \n",
       "split3_test_score                                                 -70.6144   \n",
       "split4_test_score                                                 -70.5596   \n",
       "mean_test_score                                                    -69.155   \n",
       "std_test_score                                                     1.44711   \n",
       "rank_test_score                                                         67   \n",
       "\n",
       "                                                                        5   \\\n",
       "mean_fit_time                                                     0.132358   \n",
       "std_fit_time                                                   0.000439587   \n",
       "mean_score_time                                                 0.00226622   \n",
       "std_score_time                                                 6.67615e-05   \n",
       "param_max_depth                                                          1   \n",
       "param_min_samples_split                                                  7   \n",
       "param_n_estimators                                                     100   \n",
       "params                   {'max_depth': 1, 'min_samples_split': 7, 'n_es...   \n",
       "split0_test_score                                                  -66.881   \n",
       "split1_test_score                                                 -69.5751   \n",
       "split2_test_score                                                 -68.1449   \n",
       "split3_test_score                                                 -70.6144   \n",
       "split4_test_score                                                 -70.5596   \n",
       "mean_test_score                                                    -69.155   \n",
       "std_test_score                                                     1.44711   \n",
       "rank_test_score                                                         67   \n",
       "\n",
       "                                                                        6   \\\n",
       "mean_fit_time                                                     0.132521   \n",
       "std_fit_time                                                   0.000427552   \n",
       "mean_score_time                                                 0.00222912   \n",
       "std_score_time                                                 3.89543e-05   \n",
       "param_max_depth                                                          1   \n",
       "param_min_samples_split                                                  8   \n",
       "param_n_estimators                                                     100   \n",
       "params                   {'max_depth': 1, 'min_samples_split': 8, 'n_es...   \n",
       "split0_test_score                                                  -66.881   \n",
       "split1_test_score                                                 -69.5751   \n",
       "split2_test_score                                                 -68.1449   \n",
       "split3_test_score                                                 -70.6144   \n",
       "split4_test_score                                                 -70.5596   \n",
       "mean_test_score                                                    -69.155   \n",
       "std_test_score                                                     1.44711   \n",
       "rank_test_score                                                         67   \n",
       "\n",
       "                                                                        7   \\\n",
       "mean_fit_time                                                     0.132169   \n",
       "std_fit_time                                                   0.000202744   \n",
       "mean_score_time                                                 0.00221987   \n",
       "std_score_time                                                 5.32413e-05   \n",
       "param_max_depth                                                          1   \n",
       "param_min_samples_split                                                  9   \n",
       "param_n_estimators                                                     100   \n",
       "params                   {'max_depth': 1, 'min_samples_split': 9, 'n_es...   \n",
       "split0_test_score                                                  -66.881   \n",
       "split1_test_score                                                 -69.5751   \n",
       "split2_test_score                                                 -68.1449   \n",
       "split3_test_score                                                 -70.6144   \n",
       "split4_test_score                                                 -70.5596   \n",
       "mean_test_score                                                    -69.155   \n",
       "std_test_score                                                     1.44711   \n",
       "rank_test_score                                                         67   \n",
       "\n",
       "                                                                        8   \\\n",
       "mean_fit_time                                                     0.275219   \n",
       "std_fit_time                                                    0.00367756   \n",
       "mean_score_time                                                 0.00325875   \n",
       "std_score_time                                                 0.000346873   \n",
       "param_max_depth                                                          2   \n",
       "param_min_samples_split                                                  2   \n",
       "param_n_estimators                                                     100   \n",
       "params                   {'max_depth': 2, 'min_samples_split': 2, 'n_es...   \n",
       "split0_test_score                                                 -65.2827   \n",
       "split1_test_score                                                 -68.1843   \n",
       "split2_test_score                                                 -66.3722   \n",
       "split3_test_score                                                 -69.0479   \n",
       "split4_test_score                                                 -68.6854   \n",
       "mean_test_score                                                   -67.5145   \n",
       "std_test_score                                                     1.44616   \n",
       "rank_test_score                                                         57   \n",
       "\n",
       "                                                                        9   \\\n",
       "mean_fit_time                                                     0.277776   \n",
       "std_fit_time                                                    0.00615469   \n",
       "mean_score_time                                                 0.00336437   \n",
       "std_score_time                                                 0.000229299   \n",
       "param_max_depth                                                          2   \n",
       "param_min_samples_split                                                  3   \n",
       "param_n_estimators                                                     100   \n",
       "params                   {'max_depth': 2, 'min_samples_split': 3, 'n_es...   \n",
       "split0_test_score                                                 -65.2827   \n",
       "split1_test_score                                                 -68.1843   \n",
       "split2_test_score                                                 -66.3722   \n",
       "split3_test_score                                                 -69.0479   \n",
       "split4_test_score                                                 -68.6854   \n",
       "mean_test_score                                                   -67.5145   \n",
       "std_test_score                                                     1.44616   \n",
       "rank_test_score                                                         57   \n",
       "\n",
       "                         ...  \\\n",
       "mean_fit_time            ...   \n",
       "std_fit_time             ...   \n",
       "mean_score_time          ...   \n",
       "std_score_time           ...   \n",
       "param_max_depth          ...   \n",
       "param_min_samples_split  ...   \n",
       "param_n_estimators       ...   \n",
       "params                   ...   \n",
       "split0_test_score        ...   \n",
       "split1_test_score        ...   \n",
       "split2_test_score        ...   \n",
       "split3_test_score        ...   \n",
       "split4_test_score        ...   \n",
       "mean_test_score          ...   \n",
       "std_test_score           ...   \n",
       "rank_test_score          ...   \n",
       "\n",
       "                                                                        62  \\\n",
       "mean_fit_time                                                      1.88578   \n",
       "std_fit_time                                                     0.0417169   \n",
       "mean_score_time                                                  0.0082366   \n",
       "std_score_time                                                 0.000109977   \n",
       "param_max_depth                                                          8   \n",
       "param_min_samples_split                                                  8   \n",
       "param_n_estimators                                                     100   \n",
       "params                   {'max_depth': 8, 'min_samples_split': 8, 'n_es...   \n",
       "split0_test_score                                                 -53.6146   \n",
       "split1_test_score                                                 -53.9737   \n",
       "split2_test_score                                                 -55.1198   \n",
       "split3_test_score                                                  -54.717   \n",
       "split4_test_score                                                 -55.7091   \n",
       "mean_test_score                                                   -54.6268   \n",
       "std_test_score                                                    0.758119   \n",
       "rank_test_score                                                         14   \n",
       "\n",
       "                                                                        63  \\\n",
       "mean_fit_time                                                      1.86598   \n",
       "std_fit_time                                                     0.0407087   \n",
       "mean_score_time                                                 0.00810437   \n",
       "std_score_time                                                 5.09746e-05   \n",
       "param_max_depth                                                          8   \n",
       "param_min_samples_split                                                  9   \n",
       "param_n_estimators                                                     100   \n",
       "params                   {'max_depth': 8, 'min_samples_split': 9, 'n_es...   \n",
       "split0_test_score                                                 -53.4222   \n",
       "split1_test_score                                                 -54.0807   \n",
       "split2_test_score                                                 -55.4548   \n",
       "split3_test_score                                                 -54.6538   \n",
       "split4_test_score                                                 -55.6192   \n",
       "mean_test_score                                                   -54.6462   \n",
       "std_test_score                                                    0.826872   \n",
       "rank_test_score                                                         15   \n",
       "\n",
       "                                                                        64  \\\n",
       "mean_fit_time                                                      2.79908   \n",
       "std_fit_time                                                     0.0534292   \n",
       "mean_score_time                                                  0.0103125   \n",
       "std_score_time                                                  0.00093054   \n",
       "param_max_depth                                                          9   \n",
       "param_min_samples_split                                                  2   \n",
       "param_n_estimators                                                     100   \n",
       "params                   {'max_depth': 9, 'min_samples_split': 2, 'n_es...   \n",
       "split0_test_score                                                 -52.1364   \n",
       "split1_test_score                                                 -51.6002   \n",
       "split2_test_score                                                 -54.0048   \n",
       "split3_test_score                                                 -52.9629   \n",
       "split4_test_score                                                 -53.3438   \n",
       "mean_test_score                                                   -52.8096   \n",
       "std_test_score                                                    0.854784   \n",
       "rank_test_score                                                          1   \n",
       "\n",
       "                                                                        65  \\\n",
       "mean_fit_time                                                      2.64744   \n",
       "std_fit_time                                                     0.0504111   \n",
       "mean_score_time                                                 0.00963774   \n",
       "std_score_time                                                 0.000195362   \n",
       "param_max_depth                                                          9   \n",
       "param_min_samples_split                                                  3   \n",
       "param_n_estimators                                                     100   \n",
       "params                   {'max_depth': 9, 'min_samples_split': 3, 'n_es...   \n",
       "split0_test_score                                                 -52.0623   \n",
       "split1_test_score                                                 -51.5864   \n",
       "split2_test_score                                                  -53.803   \n",
       "split3_test_score                                                 -53.1596   \n",
       "split4_test_score                                                 -53.6259   \n",
       "mean_test_score                                                   -52.8474   \n",
       "std_test_score                                                    0.874454   \n",
       "rank_test_score                                                          3   \n",
       "\n",
       "                                                                        66  \\\n",
       "mean_fit_time                                                      2.55147   \n",
       "std_fit_time                                                     0.0424029   \n",
       "mean_score_time                                                 0.00959587   \n",
       "std_score_time                                                 0.000179653   \n",
       "param_max_depth                                                          9   \n",
       "param_min_samples_split                                                  4   \n",
       "param_n_estimators                                                     100   \n",
       "params                   {'max_depth': 9, 'min_samples_split': 4, 'n_es...   \n",
       "split0_test_score                                                 -52.2248   \n",
       "split1_test_score                                                 -51.5505   \n",
       "split2_test_score                                                 -53.9182   \n",
       "split3_test_score                                                 -52.9825   \n",
       "split4_test_score                                                 -53.8036   \n",
       "mean_test_score                                                   -52.8959   \n",
       "std_test_score                                                     0.90962   \n",
       "rank_test_score                                                          6   \n",
       "\n",
       "                                                                        67  \\\n",
       "mean_fit_time                                                       2.4977   \n",
       "std_fit_time                                                     0.0552815   \n",
       "mean_score_time                                                  0.0101577   \n",
       "std_score_time                                                 0.000709261   \n",
       "param_max_depth                                                          9   \n",
       "param_min_samples_split                                                  5   \n",
       "param_n_estimators                                                     100   \n",
       "params                   {'max_depth': 9, 'min_samples_split': 5, 'n_es...   \n",
       "split0_test_score                                                 -52.2313   \n",
       "split1_test_score                                                 -51.7994   \n",
       "split2_test_score                                                  -53.822   \n",
       "split3_test_score                                                 -52.9459   \n",
       "split4_test_score                                                 -53.4459   \n",
       "mean_test_score                                                   -52.8489   \n",
       "std_test_score                                                    0.747745   \n",
       "rank_test_score                                                          4   \n",
       "\n",
       "                                                                        68  \\\n",
       "mean_fit_time                                                       2.4007   \n",
       "std_fit_time                                                     0.0459694   \n",
       "mean_score_time                                                 0.00940166   \n",
       "std_score_time                                                 0.000139673   \n",
       "param_max_depth                                                          9   \n",
       "param_min_samples_split                                                  6   \n",
       "param_n_estimators                                                     100   \n",
       "params                   {'max_depth': 9, 'min_samples_split': 6, 'n_es...   \n",
       "split0_test_score                                                 -52.2657   \n",
       "split1_test_score                                                 -51.8263   \n",
       "split2_test_score                                                 -53.9174   \n",
       "split3_test_score                                                 -52.6064   \n",
       "split4_test_score                                                 -53.6577   \n",
       "mean_test_score                                                   -52.8547   \n",
       "std_test_score                                                    0.805014   \n",
       "rank_test_score                                                          5   \n",
       "\n",
       "                                                                        69  \\\n",
       "mean_fit_time                                                      2.35315   \n",
       "std_fit_time                                                     0.0445419   \n",
       "mean_score_time                                                 0.00931244   \n",
       "std_score_time                                                 0.000136368   \n",
       "param_max_depth                                                          9   \n",
       "param_min_samples_split                                                  7   \n",
       "param_n_estimators                                                     100   \n",
       "params                   {'max_depth': 9, 'min_samples_split': 7, 'n_es...   \n",
       "split0_test_score                                                 -52.1668   \n",
       "split1_test_score                                                 -52.0118   \n",
       "split2_test_score                                                 -53.7152   \n",
       "split3_test_score                                                 -52.6671   \n",
       "split4_test_score                                                 -53.5543   \n",
       "mean_test_score                                                    -52.823   \n",
       "std_test_score                                                     0.69912   \n",
       "rank_test_score                                                          2   \n",
       "\n",
       "                                                                        70  \\\n",
       "mean_fit_time                                                      2.29729   \n",
       "std_fit_time                                                     0.0510968   \n",
       "mean_score_time                                                 0.00971041   \n",
       "std_score_time                                                 0.000528304   \n",
       "param_max_depth                                                          9   \n",
       "param_min_samples_split                                                  8   \n",
       "param_n_estimators                                                     100   \n",
       "params                   {'max_depth': 9, 'min_samples_split': 8, 'n_es...   \n",
       "split0_test_score                                                 -52.2403   \n",
       "split1_test_score                                                 -52.1812   \n",
       "split2_test_score                                                 -53.9266   \n",
       "split3_test_score                                                 -52.6395   \n",
       "split4_test_score                                                 -53.6449   \n",
       "mean_test_score                                                   -52.9265   \n",
       "std_test_score                                                    0.724586   \n",
       "rank_test_score                                                          7   \n",
       "\n",
       "                                                                        71  \n",
       "mean_fit_time                                                      2.26258  \n",
       "std_fit_time                                                     0.0442054  \n",
       "mean_score_time                                                 0.00929432  \n",
       "std_score_time                                                 0.000157144  \n",
       "param_max_depth                                                          9  \n",
       "param_min_samples_split                                                  9  \n",
       "param_n_estimators                                                     100  \n",
       "params                   {'max_depth': 9, 'min_samples_split': 9, 'n_es...  \n",
       "split0_test_score                                                 -52.1515  \n",
       "split1_test_score                                                 -52.3649  \n",
       "split2_test_score                                                 -53.9173  \n",
       "split3_test_score                                                 -52.7042  \n",
       "split4_test_score                                                 -53.6137  \n",
       "mean_test_score                                                   -52.9503  \n",
       "std_test_score                                                    0.695205  \n",
       "rank_test_score                                                          8  \n",
       "\n",
       "[16 rows x 72 columns]"
      ]
     },
     "execution_count": 1376,
     "metadata": {},
     "output_type": "execute_result"
    }
   ],
   "source": [
    "pd.DataFrame(grid.cv_results_).T"
   ]
  },
  {
   "cell_type": "code",
   "execution_count": 598,
   "metadata": {},
   "outputs": [
    {
     "data": {
      "text/plain": [
       "2.0"
      ]
     },
     "execution_count": 598,
     "metadata": {},
     "output_type": "execute_result"
    }
   ],
   "source": [
    "math.log(4,2)"
   ]
  },
  {
   "cell_type": "code",
   "execution_count": 1433,
   "metadata": {},
   "outputs": [],
   "source": [
    "a=pd.DataFrame([1,2,3],columns=['a'])\n",
    "b=pd.DataFrame([1,4,3,4],columns=['c'])"
   ]
  },
  {
   "cell_type": "code",
   "execution_count": 1438,
   "metadata": {},
   "outputs": [],
   "source": [
    "d=b.drop(['c'],axis=1)"
   ]
  },
  {
   "cell_type": "code",
   "execution_count": null,
   "metadata": {},
   "outputs": [],
   "source": []
  },
  {
   "cell_type": "code",
   "execution_count": 1417,
   "metadata": {},
   "outputs": [],
   "source": [
    "c=pd.concat([a,b],axis=1)"
   ]
  },
  {
   "cell_type": "code",
   "execution_count": 1425,
   "metadata": {},
   "outputs": [
    {
     "data": {
      "text/html": [
       "<div>\n",
       "<style scoped>\n",
       "    .dataframe tbody tr th:only-of-type {\n",
       "        vertical-align: middle;\n",
       "    }\n",
       "\n",
       "    .dataframe tbody tr th {\n",
       "        vertical-align: top;\n",
       "    }\n",
       "\n",
       "    .dataframe thead th {\n",
       "        text-align: right;\n",
       "    }\n",
       "</style>\n",
       "<table border=\"1\" class=\"dataframe\">\n",
       "  <thead>\n",
       "    <tr style=\"text-align: right;\">\n",
       "      <th></th>\n",
       "      <th>a</th>\n",
       "    </tr>\n",
       "  </thead>\n",
       "  <tbody>\n",
       "    <tr>\n",
       "      <td>0</td>\n",
       "      <td>1</td>\n",
       "    </tr>\n",
       "    <tr>\n",
       "      <td>1</td>\n",
       "      <td>2</td>\n",
       "    </tr>\n",
       "    <tr>\n",
       "      <td>2</td>\n",
       "      <td>3</td>\n",
       "    </tr>\n",
       "  </tbody>\n",
       "</table>\n",
       "</div>"
      ],
      "text/plain": [
       "   a\n",
       "0  1\n",
       "1  2\n",
       "2  3"
      ]
     },
     "execution_count": 1425,
     "metadata": {},
     "output_type": "execute_result"
    }
   ],
   "source": [
    "a"
   ]
  },
  {
   "cell_type": "code",
   "execution_count": 1426,
   "metadata": {},
   "outputs": [
    {
     "data": {
      "text/html": [
       "<div>\n",
       "<style scoped>\n",
       "    .dataframe tbody tr th:only-of-type {\n",
       "        vertical-align: middle;\n",
       "    }\n",
       "\n",
       "    .dataframe tbody tr th {\n",
       "        vertical-align: top;\n",
       "    }\n",
       "\n",
       "    .dataframe thead th {\n",
       "        text-align: right;\n",
       "    }\n",
       "</style>\n",
       "<table border=\"1\" class=\"dataframe\">\n",
       "  <thead>\n",
       "    <tr style=\"text-align: right;\">\n",
       "      <th></th>\n",
       "      <th>a</th>\n",
       "    </tr>\n",
       "  </thead>\n",
       "  <tbody>\n",
       "    <tr>\n",
       "      <td>0</td>\n",
       "      <td>1</td>\n",
       "    </tr>\n",
       "    <tr>\n",
       "      <td>1</td>\n",
       "      <td>4</td>\n",
       "    </tr>\n",
       "    <tr>\n",
       "      <td>2</td>\n",
       "      <td>3</td>\n",
       "    </tr>\n",
       "    <tr>\n",
       "      <td>3</td>\n",
       "      <td>4</td>\n",
       "    </tr>\n",
       "  </tbody>\n",
       "</table>\n",
       "</div>"
      ],
      "text/plain": [
       "   a\n",
       "0  1\n",
       "1  4\n",
       "2  3\n",
       "3  4"
      ]
     },
     "execution_count": 1426,
     "metadata": {},
     "output_type": "execute_result"
    }
   ],
   "source": [
    "b"
   ]
  },
  {
   "cell_type": "code",
   "execution_count": 1443,
   "metadata": {},
   "outputs": [],
   "source": [
    "c=d.drop(0)"
   ]
  },
  {
   "cell_type": "code",
   "execution_count": 1446,
   "metadata": {},
   "outputs": [],
   "source": [
    "c['b']=[2,3,4]"
   ]
  },
  {
   "cell_type": "code",
   "execution_count": 1448,
   "metadata": {},
   "outputs": [
    {
     "data": {
      "text/html": [
       "<div>\n",
       "<style scoped>\n",
       "    .dataframe tbody tr th:only-of-type {\n",
       "        vertical-align: middle;\n",
       "    }\n",
       "\n",
       "    .dataframe tbody tr th {\n",
       "        vertical-align: top;\n",
       "    }\n",
       "\n",
       "    .dataframe thead th {\n",
       "        text-align: right;\n",
       "    }\n",
       "</style>\n",
       "<table border=\"1\" class=\"dataframe\">\n",
       "  <thead>\n",
       "    <tr style=\"text-align: right;\">\n",
       "      <th></th>\n",
       "      <th>b</th>\n",
       "      <th>a</th>\n",
       "    </tr>\n",
       "  </thead>\n",
       "  <tbody>\n",
       "    <tr>\n",
       "      <td>1</td>\n",
       "      <td>2</td>\n",
       "      <td>2.0</td>\n",
       "    </tr>\n",
       "    <tr>\n",
       "      <td>2</td>\n",
       "      <td>3</td>\n",
       "      <td>3.0</td>\n",
       "    </tr>\n",
       "    <tr>\n",
       "      <td>3</td>\n",
       "      <td>4</td>\n",
       "      <td>NaN</td>\n",
       "    </tr>\n",
       "  </tbody>\n",
       "</table>\n",
       "</div>"
      ],
      "text/plain": [
       "   b    a\n",
       "1  2  2.0\n",
       "2  3  3.0\n",
       "3  4  NaN"
      ]
     },
     "execution_count": 1448,
     "metadata": {},
     "output_type": "execute_result"
    }
   ],
   "source": [
    "c.join(a)"
   ]
  },
  {
   "cell_type": "code",
   "execution_count": 1503,
   "metadata": {},
   "outputs": [],
   "source": [
    "import multiprocessing"
   ]
  },
  {
   "cell_type": "code",
   "execution_count": 1529,
   "metadata": {},
   "outputs": [
    {
     "data": {
      "text/plain": [
       "<multiprocessing.pool.IMapIterator at 0x7f8913dd2f50>"
      ]
     },
     "execution_count": 1529,
     "metadata": {},
     "output_type": "execute_result"
    },
    {
     "name": "stdout",
     "output_type": "stream",
     "text": [
      "1\n",
      "4\n",
      "3\n",
      "2\n",
      "0\n",
      "5\n",
      "6\n",
      "7\n",
      "8\n",
      "9\n"
     ]
    }
   ],
   "source": [
    "multiprocessing.Pool(5).imap(hhh,range(10))"
   ]
  },
  {
   "cell_type": "code",
   "execution_count": 1528,
   "metadata": {},
   "outputs": [],
   "source": [
    "def hhh(i):\n",
    "    print(i)"
   ]
  },
  {
   "cell_type": "code",
   "execution_count": null,
   "metadata": {},
   "outputs": [],
   "source": []
  }
 ],
 "metadata": {
  "kernelspec": {
   "display_name": "Python 3",
   "language": "python",
   "name": "python3"
  },
  "language_info": {
   "codemirror_mode": {
    "name": "ipython",
    "version": 3
   },
   "file_extension": ".py",
   "mimetype": "text/x-python",
   "name": "python",
   "nbconvert_exporter": "python",
   "pygments_lexer": "ipython3",
   "version": "3.7.4"
  }
 },
 "nbformat": 4,
 "nbformat_minor": 2
}
