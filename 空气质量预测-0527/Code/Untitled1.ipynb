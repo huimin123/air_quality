{
 "cells": [
  {
   "cell_type": "code",
   "execution_count": 4,
   "metadata": {},
   "outputs": [],
   "source": [
    "import pandas as pd\n",
    "import numpy as np\n",
    "import glob"
   ]
  },
  {
   "cell_type": "code",
   "execution_count": 430,
   "metadata": {},
   "outputs": [
    {
     "data": {
      "text/plain": [
       "['../train/train_三瓦窑.csv',\n",
       " '../train/train_龙泉驿区政府.csv',\n",
       " '../train/train_金泉两河.csv',\n",
       " '../train/train_灵岩寺.csv',\n",
       " '../train/train_君平街.csv',\n",
       " '../train/train_十里店.csv',\n",
       " '../train/train_沙河铺.csv',\n",
       " '../train/train_大石西路.csv']"
      ]
     },
     "execution_count": 430,
     "metadata": {},
     "output_type": "execute_result"
    }
   ],
   "source": [
    "file=glob.glob('../train/*.csv')\n",
    "file"
   ]
  },
  {
   "cell_type": "code",
   "execution_count": 81,
   "metadata": {},
   "outputs": [],
   "source": [
    "LEVEL_mapping = {\n",
    "    '六级': 6,\n",
    "    '五级': 5,      \n",
    "    '四级': 4,\n",
    "    '三级': 3,\n",
    "    '二级': 2,\n",
    "    '一级': 1}\n",
    "\n",
    "datas=list()\n",
    "for i in file:\n",
    "    data=pd.read_csv(i)\n",
    "    data=data.drop(['UPDATE_TIME_','MN_','SOURCE_','CATEGORY_','COLOR_','STATE_'],axis=1)\n",
    "    data['LEVEL_']=data['LEVEL_'].map(LEVEL_mapping)\n",
    "    #data=pd.get_dummies(data)\n",
    "    data=data.set_index('DATA_TIME_')\n",
    "    datas.append(data)"
   ]
  },
  {
   "cell_type": "code",
   "execution_count": 683,
   "metadata": {},
   "outputs": [],
   "source": [
    "#生成日期\n",
    "date=list()\n",
    "for i in range(12):\n",
    "    month=[31,28,31,30,24,30,31,31,30,31,30,24]\n",
    "    for j in range(1,month[i]+1):\n",
    "        for k in range(24):\n",
    "            a='2017/{0}/{1} {2:02d}:00:00'.format(i+1,j,k)\n",
    "            date.append(a)"
   ]
  },
  {
   "cell_type": "code",
   "execution_count": 684,
   "metadata": {},
   "outputs": [],
   "source": [
    "date=pd.DataFrame(date)\n",
    "#ab=data.set_index('DATA_TIME_')\n",
    "date=date.set_index(0)\n",
    "X=date.join(pd.concat([datas[0],datas[2],datas[3],datas[4],datas[5],datas[6],datas[7]],axis=1,sort=True))"
   ]
  },
  {
   "cell_type": "code",
   "execution_count": 223,
   "metadata": {},
   "outputs": [],
   "source": [
    "add=list()\n",
    "addday=list()\n",
    "for i in range(8424):\n",
    "    add.append(i%24+1)\n",
    "    addday.append(int(i%168/(24)))\n",
    "X['hour']=add\n",
    "X['day']=addday\n",
    "X = X.reset_index(drop=True)\n",
    "\n",
    "Y=X['AQI_']\n",
    "X.columns=range(X.shape[1])\n",
    "Y.columns=range(Y.shape[1])"
   ]
  },
  {
   "cell_type": "code",
   "execution_count": 224,
   "metadata": {},
   "outputs": [],
   "source": [
    "def delcolumns(X):\n",
    "    indx=list()\n",
    "    for i in range(X.shape[1]):\n",
    "        a=X.iloc[:,i].isnull().sum()\n",
    "        if a/X.shape[0]>0.5:\n",
    "            indx.append(i)\n",
    "    X=X.drop(X.columns[indx],axis=1)\n",
    "    return X\n",
    "X=delcolumns(X)"
   ]
  },
  {
   "cell_type": "code",
   "execution_count": 185,
   "metadata": {},
   "outputs": [],
   "source": [
    "def hanNaN(X):\n",
    "    for feature_num,feature in enumerate(X.columns):\n",
    "        feature_index=X[X[feature].isnull()].index\n",
    "        for i in range(len(feature_index)):\n",
    "            if feature_index[i]==0:\n",
    "                j=feature_index[i]+1\n",
    "                while j in feature_index:\n",
    "                    j=j+1\n",
    "                X.iloc[feature_index[i],feature_num]=X.iloc[j,feature_num]\n",
    "            else:\n",
    "                j=feature_index[i]\n",
    "\n",
    "                while j in feature_index:\n",
    "                    j=j-1\n",
    "                    if j==0:\n",
    "                        break\n",
    "                X.iloc[feature_index[i],feature_num]=X.iloc[j,feature_num]\n",
    "    return X\n",
    "XX=hanNaN(X)\n",
    "X=Y\n",
    "Y=hanNaN(X)"
   ]
  },
  {
   "cell_type": "code",
   "execution_count": 186,
   "metadata": {},
   "outputs": [],
   "source": [
    "XX=pd.get_dummies(XX)"
   ]
  },
  {
   "cell_type": "code",
   "execution_count": 227,
   "metadata": {
    "scrolled": true
   },
   "outputs": [
    {
     "data": {
      "text/plain": [
       "(8424, 153)"
      ]
     },
     "execution_count": 227,
     "metadata": {},
     "output_type": "execute_result"
    }
   ],
   "source": [
    "XX.shape"
   ]
  },
  {
   "cell_type": "code",
   "execution_count": 228,
   "metadata": {},
   "outputs": [
    {
     "data": {
      "text/plain": [
       "(8424, 7)"
      ]
     },
     "execution_count": 228,
     "metadata": {},
     "output_type": "execute_result"
    }
   ],
   "source": [
    "Y.shape"
   ]
  },
  {
   "cell_type": "code",
   "execution_count": 213,
   "metadata": {},
   "outputs": [],
   "source": [
    "X_train=XX.iloc[:130*24,:]\n",
    "y_train=Y.iloc[24*7:137*24,:]\n",
    "X_test=XX.iloc[130*24:137*24,:]\n",
    "y_test=Y.iloc[137*24:144*24,:]"
   ]
  },
  {
   "cell_type": "code",
   "execution_count": 194,
   "metadata": {},
   "outputs": [],
   "source": [
    "from sklearn.utils import shuffle\n",
    "from sklearn.model_selection import ParameterGrid\n",
    "from sklearn import datasets, ensemble"
   ]
  },
  {
   "cell_type": "code",
   "execution_count": 214,
   "metadata": {},
   "outputs": [],
   "source": [
    "X_train, y_train = shuffle(X_train, y_train)"
   ]
  },
  {
   "cell_type": "code",
   "execution_count": 215,
   "metadata": {},
   "outputs": [],
   "source": [
    "params = {'learning_rate': 0.01,\n",
    "          'loss': 'ls'}\n",
    "parameters={'max_depth':range(1,10),'n_estimators':[10,30,50,70,100,150,200],'min_samples_split':range(2,10)}\n",
    "reg = ensemble.GradientBoostingRegressor(**params)"
   ]
  },
  {
   "cell_type": "code",
   "execution_count": 216,
   "metadata": {},
   "outputs": [
    {
     "name": "stdout",
     "output_type": "stream",
     "text": [
      "score: 25.53470\n",
      "Grid: {'max_depth': 5, 'min_samples_split': 5, 'n_estimators': 200}\n"
     ]
    }
   ],
   "source": [
    "best_score=float('inf')\n",
    "for g in ParameterGrid(parameters):\n",
    "    reg.set_params(**g)\n",
    "    reg.fit(X_train,y_train[0])\n",
    "    y_pred=reg.predict(X_test)\n",
    "    # save if best\n",
    "    score = np.sqrt(((y_pred - y_test[0]) ** 2).mean())\n",
    "    if score < best_score:\n",
    "        best_score = score\n",
    "        best_grid = g\n",
    "\n",
    "print(\"score: %0.5f\" % best_score)\n",
    "print(\"Grid:\", best_grid)"
   ]
  },
  {
   "cell_type": "code",
   "execution_count": 449,
   "metadata": {},
   "outputs": [],
   "source": [
    "X_train_=XX.iloc[:137*24,:]\n",
    "y_train_=Y.iloc[24*7:144*24,:]\n",
    "X_test_=XX.iloc[137*24:144*24,:]\n",
    "\n",
    "X_train_, y_train_ = shuffle(X_train_, y_train_)"
   ]
  },
  {
   "cell_type": "code",
   "execution_count": 450,
   "metadata": {},
   "outputs": [],
   "source": [
    "params_best = {'max_depth':5,\n",
    "               'min_samples_split':5,\n",
    "               'n_estimators':200,\n",
    "               'learning_rate':0.01,\n",
    "               'loss':'ls'}\n",
    "y_pred1=list()\n",
    "for i in range(7):\n",
    "    reg = ensemble.GradientBoostingRegressor(**params_best)\n",
    "    reg.fit(X_train_, y_train_[i])\n",
    "    y_pred1.append(reg.predict(X_test_))\n",
    "    "
   ]
  },
  {
   "cell_type": "code",
   "execution_count": 451,
   "metadata": {},
   "outputs": [],
   "source": [
    "X_train_2=XX.iloc[144*24:(-7*24),:]\n",
    "y_train_2=Y.iloc[151*24:,:]\n",
    "X_test_2 =XX.iloc[-7*24:,:]\n",
    "\n",
    "X_train_2, y_train_2 = shuffle(X_train_2, y_train_2)"
   ]
  },
  {
   "cell_type": "code",
   "execution_count": 452,
   "metadata": {},
   "outputs": [],
   "source": [
    "params_best = {'max_depth':5,\n",
    "               'min_samples_split':5,\n",
    "               'n_estimators':200,\n",
    "               'learning_rate':0.01,\n",
    "               'loss':'ls'}\n",
    "y_pred2=list()\n",
    "for i in range(7):\n",
    "    reg = ensemble.GradientBoostingRegressor(**params_best)\n",
    "    reg.fit(X_train_2, y_train_2[i])\n",
    "    y_pred2.append(reg.predict(X_test_2))"
   ]
  },
  {
   "cell_type": "code",
   "execution_count": 260,
   "metadata": {
    "collapsed": true
   },
   "outputs": [
    {
     "data": {
      "text/plain": [
       "C_SO2_1H                  5\n",
       "I_SO2_1H                  2\n",
       "C_NO2_1H                 16\n",
       "I_NO2_1H                  8\n",
       "C_PM10_1H                12\n",
       "C_PM10_24H_MV           NaN\n",
       "I_PM10_24H_MV            12\n",
       "C_CO1_1H               0.75\n",
       "I_CO1_1H                  8\n",
       "C_O3_1H                  21\n",
       "I_O3_1H                   7\n",
       "C_O3_8H_MV              NaN\n",
       "I_O3_8H_MV              NaN\n",
       "C_PM25_1H                 8\n",
       "C_PM25_24H_MV           NaN\n",
       "I_PM25_24H_MV            12\n",
       "AQI_                     12\n",
       "PRIMARY_POLLUTANTS_       -\n",
       "LEVEL_                    1\n",
       "Name: 2017/10/30 16:00:00, dtype: object"
      ]
     },
     "execution_count": 260,
     "metadata": {},
     "output_type": "execute_result"
    }
   ],
   "source": [
    "datas[1].loc['2017/10/30 16:00:00']"
   ]
  },
  {
   "cell_type": "code",
   "execution_count": 355,
   "metadata": {},
   "outputs": [],
   "source": [
    "dateLong=date.loc['2017/10/30 14:00:00':]\n",
    "XLong=dateLong.join(pd.concat(datas,axis=1,sort=True))"
   ]
  },
  {
   "cell_type": "code",
   "execution_count": 356,
   "metadata": {},
   "outputs": [],
   "source": [
    "add=list()\n",
    "addday=list()\n",
    "for i in range(XLong.shape[0]):\n",
    "    add.append(i%24+15)\n",
    "    addday.append(int(i%168/(24)))\n",
    "XLong['hour']=add\n",
    "XLong['day']=addday\n",
    "XLong = XLong.reset_index(drop=True)\n",
    "\n",
    "YLong=XLong['AQI_']\n",
    "XLong.columns=range(XLong.shape[1])\n",
    "YLong.columns=range(YLong.shape[1])"
   ]
  },
  {
   "cell_type": "code",
   "execution_count": 358,
   "metadata": {},
   "outputs": [],
   "source": [
    "XLong=delcolumns(XLong)\n",
    "XL=hanNaN(XLong)\n",
    "YL=hanNaN(YLong)\n",
    "XL=pd.get_dummies(XL)"
   ]
  },
  {
   "cell_type": "code",
   "execution_count": 453,
   "metadata": {},
   "outputs": [],
   "source": [
    "X_train_3=XL.iloc[:(-7*24),:]\n",
    "y_train_3=YL.iloc[7*24:,1]\n",
    "X_test_3 =XL.iloc[-7*24:,:]\n",
    "\n",
    "X_train_3, y_train_3 = shuffle(X_train_3, y_train_3)"
   ]
  },
  {
   "cell_type": "code",
   "execution_count": 454,
   "metadata": {},
   "outputs": [],
   "source": [
    "params_best = {'max_depth':5,\n",
    "               'min_samples_split':5,\n",
    "               'n_estimators':200,\n",
    "               'learning_rate':0.01,\n",
    "               'loss':'ls'}\n",
    "reg = ensemble.GradientBoostingRegressor(**params_best)\n",
    "reg.fit(X_train_3, y_train_3)\n",
    "y_pred3=reg.predict(X_test_3)"
   ]
  },
  {
   "cell_type": "code",
   "execution_count": 391,
   "metadata": {},
   "outputs": [
    {
     "data": {
      "text/plain": [
       "336"
      ]
     },
     "execution_count": 391,
     "metadata": {},
     "output_type": "execute_result"
    }
   ],
   "source": [
    "14*24"
   ]
  },
  {
   "cell_type": "code",
   "execution_count": 664,
   "metadata": {},
   "outputs": [],
   "source": [
    "submit=pd.read_csv('../to_predict/to_predict.csv')"
   ]
  },
  {
   "cell_type": "code",
   "execution_count": 665,
   "metadata": {},
   "outputs": [
    {
     "data": {
      "text/plain": [
       "0       2017/5/25 00:xx\n",
       "1       2017/5/25 01:xx\n",
       "2       2017/5/25 02:xx\n",
       "3       2017/5/25 03:xx\n",
       "4       2017/5/25 04:xx\n",
       "             ...       \n",
       "344    2017/12/31 19:xx\n",
       "345    2017/12/31 20:xx\n",
       "347    2017/12/31 21:xx\n",
       "348    2017/12/31 22:xx\n",
       "349    2017/12/31 23:xx\n",
       "Name: DAY_HOUR, Length: 336, dtype: object"
      ]
     },
     "execution_count": 665,
     "metadata": {},
     "output_type": "execute_result"
    }
   ],
   "source": [
    "submit.loc[submit['MN_']==51010901001,:]['DAY_HOUR'].drop_duplicates()"
   ]
  },
  {
   "cell_type": "code",
   "execution_count": 666,
   "metadata": {},
   "outputs": [
    {
     "data": {
      "text/plain": [
       "0       51010901001\n",
       "351     51010801001\n",
       "705     51010501001\n",
       "1053    51010501002\n",
       "1407    51010401001\n",
       "1760    51010101001\n",
       "2111    51010601002\n",
       "2461    51011201004\n",
       "Name: MN_, dtype: int64"
      ]
     },
     "execution_count": 666,
     "metadata": {},
     "output_type": "execute_result"
    }
   ],
   "source": [
    "submit['MN_'].drop_duplicates()"
   ]
  },
  {
   "cell_type": "code",
   "execution_count": 667,
   "metadata": {},
   "outputs": [
    {
     "name": "stdout",
     "output_type": "stream",
     "text": [
      "train_三瓦窑.csv:  51010901001\n",
      "train_龙泉驿区政府.csv:  51011201004\n",
      "train_金泉两河.csv:  51010601002\n",
      "train_灵岩寺.csv:  51010101001\n",
      "train_君平街.csv:  51010501001\n",
      "train_十里店.csv:  51010801001\n",
      "train_沙河铺.csv:  51010401001\n",
      "train_大石西路.csv:  51010501002\n"
     ]
    }
   ],
   "source": [
    "MN=list()\n",
    "for i in file:\n",
    "    data=pd.read_csv(i)\n",
    "    MN.append(data['MN_'][0])\n",
    "    print(i.split('/')[2]+': ',data['MN_'][0])"
   ]
  },
  {
   "cell_type": "code",
   "execution_count": 668,
   "metadata": {},
   "outputs": [
    {
     "data": {
      "text/plain": [
       "[51010901001,\n",
       " 51011201004,\n",
       " 51010601002,\n",
       " 51010101001,\n",
       " 51010501001,\n",
       " 51010801001,\n",
       " 51010401001,\n",
       " 51010501002]"
      ]
     },
     "execution_count": 668,
     "metadata": {},
     "output_type": "execute_result"
    }
   ],
   "source": [
    "MN"
   ]
  },
  {
   "cell_type": "code",
   "execution_count": 460,
   "metadata": {},
   "outputs": [],
   "source": [
    "pred=list()\n",
    "for i in range(len(y_pred1)):\n",
    "    pred.append(np.concatenate((y_pred1[i],y_pred2[i])))\n",
    "pred.insert(1,y_pred3)   "
   ]
  },
  {
   "cell_type": "code",
   "execution_count": 722,
   "metadata": {},
   "outputs": [],
   "source": [
    "dateNew=list()\n",
    "for i in [5,12]:\n",
    "    for j in range(1,8):\n",
    "        for k in range(24):\n",
    "            a='2017/{0}/{1} {2:02d}:00:00'.format(i,j+24,k)\n",
    "            dateNew.append(a)\n",
    "dateNew=pd.DataFrame(dateNew,columns=['date'])\n",
    "#ab=data.set_index('DATA_TIME_')\n",
    "#dateNew=dateNew.set_index(0)"
   ]
  },
  {
   "cell_type": "code",
   "execution_count": 669,
   "metadata": {},
   "outputs": [
    {
     "data": {
      "text/plain": [
       "0       2017/5/25 00:xx\n",
       "1       2017/5/25 01:xx\n",
       "2       2017/5/25 02:xx\n",
       "3       2017/5/25 03:xx\n",
       "4       2017/5/25 04:xx\n",
       "             ...       \n",
       "346    2017/12/31 20:xx\n",
       "347    2017/12/31 21:xx\n",
       "348    2017/12/31 22:xx\n",
       "349    2017/12/31 23:xx\n",
       "350    2017/12/31 23:xx\n",
       "Name: DAY_HOUR, Length: 351, dtype: object"
      ]
     },
     "execution_count": 669,
     "metadata": {},
     "output_type": "execute_result"
    }
   ],
   "source": [
    "submit.loc[submit['MN_']==51010901001]['DAY_HOUR']"
   ]
  },
  {
   "cell_type": "code",
   "execution_count": 534,
   "metadata": {},
   "outputs": [],
   "source": [
    "predList=list()\n",
    "for i in submit['MN_'].drop_duplicates():\n",
    "    dataIndex=submit.loc[submit['MN_']==i]['DAY_HOUR']\n",
    "    dataIndex=pd.DataFrame(dataIndex).set_index('DAY_HOUR')\n",
    "    for j,k in enumerate(MN):\n",
    "        if k==i:\n",
    "            predSub=pd.DataFrame(pred[j])\n",
    "    predList.append(dataIndex.join(pd.concat([dateNew,predSub],axis=1,sort=True).set_index('date')))\n",
    "    "
   ]
  },
  {
   "cell_type": "code",
   "execution_count": 605,
   "metadata": {},
   "outputs": [
    {
     "data": {
      "text/plain": [
       "2815"
      ]
     },
     "execution_count": 605,
     "metadata": {},
     "output_type": "execute_result"
    }
   ],
   "source": [
    "su=0\n",
    "for i in range(len(predList)):\n",
    "    su+=predList[i].shape[0]\n",
    "su"
   ]
  },
  {
   "cell_type": "code",
   "execution_count": 642,
   "metadata": {},
   "outputs": [],
   "source": [
    "submit=pd.concat(predList).reset_index(drop=True).reset_index().rename(columns={'index':'ID_SUBMIT',0:'AQI_'})"
   ]
  },
  {
   "cell_type": "code",
   "execution_count": 643,
   "metadata": {},
   "outputs": [
    {
     "data": {
      "text/plain": [
       "186"
      ]
     },
     "execution_count": 643,
     "metadata": {},
     "output_type": "execute_result"
    }
   ],
   "source": [
    "sum(submit['AQI_'].isnull())"
   ]
  },
  {
   "cell_type": "code",
   "execution_count": 652,
   "metadata": {},
   "outputs": [],
   "source": [
    "for i in submit.loc[submit['AQI_'].isnull()].index:\n",
    "    submit.iloc[i,1]=y_pred1[0].mean()"
   ]
  },
  {
   "cell_type": "code",
   "execution_count": 653,
   "metadata": {},
   "outputs": [],
   "source": [
    "submit.to_csv('./submit2.csv',index=False)"
   ]
  },
  {
   "cell_type": "code",
   "execution_count": 647,
   "metadata": {},
   "outputs": [
    {
     "data": {
      "text/plain": [
       "Int64Index([2461, 2462, 2463, 2464, 2465, 2466, 2467, 2468, 2469, 2470,\n",
       "            ...\n",
       "            2637, 2638, 2639, 2640, 2641, 2642, 2643, 2644, 2645, 2646],\n",
       "           dtype='int64', length=186)"
      ]
     },
     "execution_count": 647,
     "metadata": {},
     "output_type": "execute_result"
    }
   ],
   "source": [
    "submit.loc[submit['AQI_'].isnull()].index"
   ]
  },
  {
   "cell_type": "code",
   "execution_count": 646,
   "metadata": {},
   "outputs": [
    {
     "data": {
      "text/plain": [
       "69.1713496227487"
      ]
     },
     "execution_count": 646,
     "metadata": {},
     "output_type": "execute_result"
    }
   ],
   "source": [
    "y_pred1[0].mean()"
   ]
  },
  {
   "cell_type": "code",
   "execution_count": 651,
   "metadata": {
    "scrolled": true
   },
   "outputs": [
    {
     "data": {
      "text/plain": [
       "104.31459285026675"
      ]
     },
     "execution_count": 651,
     "metadata": {},
     "output_type": "execute_result"
    }
   ],
   "source": [
    "submit.iloc[2647,1]"
   ]
  },
  {
   "cell_type": "code",
   "execution_count": 673,
   "metadata": {},
   "outputs": [
    {
     "data": {
      "text/html": [
       "<div>\n",
       "<style scoped>\n",
       "    .dataframe tbody tr th:only-of-type {\n",
       "        vertical-align: middle;\n",
       "    }\n",
       "\n",
       "    .dataframe tbody tr th {\n",
       "        vertical-align: top;\n",
       "    }\n",
       "\n",
       "    .dataframe thead th {\n",
       "        text-align: right;\n",
       "    }\n",
       "</style>\n",
       "<table border=\"1\" class=\"dataframe\">\n",
       "  <thead>\n",
       "    <tr style=\"text-align: right;\">\n",
       "      <th></th>\n",
       "      <th>date</th>\n",
       "      <th>0</th>\n",
       "    </tr>\n",
       "  </thead>\n",
       "  <tbody>\n",
       "    <tr>\n",
       "      <td>0</td>\n",
       "      <td>2017/5/25 00:xx</td>\n",
       "      <td>63.740986</td>\n",
       "    </tr>\n",
       "    <tr>\n",
       "      <td>1</td>\n",
       "      <td>2017/5/25 01:xx</td>\n",
       "      <td>62.363351</td>\n",
       "    </tr>\n",
       "    <tr>\n",
       "      <td>2</td>\n",
       "      <td>2017/5/25 02:xx</td>\n",
       "      <td>62.363351</td>\n",
       "    </tr>\n",
       "    <tr>\n",
       "      <td>3</td>\n",
       "      <td>2017/5/25 03:xx</td>\n",
       "      <td>60.119943</td>\n",
       "    </tr>\n",
       "    <tr>\n",
       "      <td>4</td>\n",
       "      <td>2017/5/25 04:xx</td>\n",
       "      <td>60.031653</td>\n",
       "    </tr>\n",
       "    <tr>\n",
       "      <td>...</td>\n",
       "      <td>...</td>\n",
       "      <td>...</td>\n",
       "    </tr>\n",
       "    <tr>\n",
       "      <td>331</td>\n",
       "      <td>2017/12/31 19:xx</td>\n",
       "      <td>105.339973</td>\n",
       "    </tr>\n",
       "    <tr>\n",
       "      <td>332</td>\n",
       "      <td>2017/12/31 20:xx</td>\n",
       "      <td>102.460232</td>\n",
       "    </tr>\n",
       "    <tr>\n",
       "      <td>333</td>\n",
       "      <td>2017/12/31 21:xx</td>\n",
       "      <td>104.652733</td>\n",
       "    </tr>\n",
       "    <tr>\n",
       "      <td>334</td>\n",
       "      <td>2017/12/31 22:xx</td>\n",
       "      <td>103.384086</td>\n",
       "    </tr>\n",
       "    <tr>\n",
       "      <td>335</td>\n",
       "      <td>2017/12/31 23:xx</td>\n",
       "      <td>106.772749</td>\n",
       "    </tr>\n",
       "  </tbody>\n",
       "</table>\n",
       "<p>336 rows × 2 columns</p>\n",
       "</div>"
      ],
      "text/plain": [
       "                 date           0\n",
       "0     2017/5/25 00:xx   63.740986\n",
       "1     2017/5/25 01:xx   62.363351\n",
       "2     2017/5/25 02:xx   62.363351\n",
       "3     2017/5/25 03:xx   60.119943\n",
       "4     2017/5/25 04:xx   60.031653\n",
       "..                ...         ...\n",
       "331  2017/12/31 19:xx  105.339973\n",
       "332  2017/12/31 20:xx  102.460232\n",
       "333  2017/12/31 21:xx  104.652733\n",
       "334  2017/12/31 22:xx  103.384086\n",
       "335  2017/12/31 23:xx  106.772749\n",
       "\n",
       "[336 rows x 2 columns]"
      ]
     },
     "execution_count": 673,
     "metadata": {},
     "output_type": "execute_result"
    }
   ],
   "source": [
    "pd.concat([dateNew,pd.DataFrame(pred[0])],axis=1,sort=True)"
   ]
  },
  {
   "cell_type": "code",
   "execution_count": 689,
   "metadata": {},
   "outputs": [],
   "source": [
    "dataIndex=submit.loc[submit['MN_']==51010901001]['DAY_HOUR']"
   ]
  },
  {
   "cell_type": "code",
   "execution_count": 727,
   "metadata": {},
   "outputs": [],
   "source": [
    "test=list()\n",
    "for i,j in enumerate(dataIndex):\n",
    "    m=j.split(':')[0]+':00:00'\n",
    "    test.append(m)"
   ]
  },
  {
   "cell_type": "code",
   "execution_count": 728,
   "metadata": {},
   "outputs": [],
   "source": [
    "test=pd.DataFrame(test)"
   ]
  },
  {
   "cell_type": "code",
   "execution_count": 729,
   "metadata": {},
   "outputs": [],
   "source": [
    "test=test.set_index(0)"
   ]
  },
  {
   "cell_type": "code",
   "execution_count": 735,
   "metadata": {},
   "outputs": [
    {
     "data": {
      "text/html": [
       "<div>\n",
       "<style scoped>\n",
       "    .dataframe tbody tr th:only-of-type {\n",
       "        vertical-align: middle;\n",
       "    }\n",
       "\n",
       "    .dataframe tbody tr th {\n",
       "        vertical-align: top;\n",
       "    }\n",
       "\n",
       "    .dataframe thead th {\n",
       "        text-align: right;\n",
       "    }\n",
       "</style>\n",
       "<table border=\"1\" class=\"dataframe\">\n",
       "  <thead>\n",
       "    <tr style=\"text-align: right;\">\n",
       "      <th></th>\n",
       "    </tr>\n",
       "    <tr>\n",
       "      <th>0</th>\n",
       "    </tr>\n",
       "  </thead>\n",
       "  <tbody>\n",
       "    <tr>\n",
       "      <td>2017/5/25 00:00:00</td>\n",
       "    </tr>\n",
       "    <tr>\n",
       "      <td>2017/5/25 01:00:00</td>\n",
       "    </tr>\n",
       "    <tr>\n",
       "      <td>2017/5/25 02:00:00</td>\n",
       "    </tr>\n",
       "    <tr>\n",
       "      <td>2017/5/25 03:00:00</td>\n",
       "    </tr>\n",
       "    <tr>\n",
       "      <td>2017/5/25 04:00:00</td>\n",
       "    </tr>\n",
       "    <tr>\n",
       "      <td>...</td>\n",
       "    </tr>\n",
       "    <tr>\n",
       "      <td>2017/12/31 20:00:00</td>\n",
       "    </tr>\n",
       "    <tr>\n",
       "      <td>2017/12/31 21:00:00</td>\n",
       "    </tr>\n",
       "    <tr>\n",
       "      <td>2017/12/31 22:00:00</td>\n",
       "    </tr>\n",
       "    <tr>\n",
       "      <td>2017/12/31 23:00:00</td>\n",
       "    </tr>\n",
       "    <tr>\n",
       "      <td>2017/12/31 23:00:00</td>\n",
       "    </tr>\n",
       "  </tbody>\n",
       "</table>\n",
       "<p>351 rows × 0 columns</p>\n",
       "</div>"
      ],
      "text/plain": [
       "Empty DataFrame\n",
       "Columns: []\n",
       "Index: [2017/5/25 00:00:00, 2017/5/25 01:00:00, 2017/5/25 02:00:00, 2017/5/25 03:00:00, 2017/5/25 04:00:00, 2017/5/25 05:00:00, 2017/5/25 06:00:00, 2017/5/25 07:00:00, 2017/5/25 08:00:00, 2017/5/25 09:00:00, 2017/5/25 10:00:00, 2017/5/25 11:00:00, 2017/5/25 12:00:00, 2017/5/25 13:00:00, 2017/5/25 14:00:00, 2017/5/25 15:00:00, 2017/5/25 16:00:00, 2017/5/25 17:00:00, 2017/5/25 18:00:00, 2017/5/25 19:00:00, 2017/5/25 20:00:00, 2017/5/25 21:00:00, 2017/5/25 22:00:00, 2017/5/25 23:00:00, 2017/5/26 00:00:00, 2017/5/26 01:00:00, 2017/5/26 02:00:00, 2017/5/26 03:00:00, 2017/5/26 04:00:00, 2017/5/26 05:00:00, 2017/5/26 06:00:00, 2017/5/26 07:00:00, 2017/5/26 08:00:00, 2017/5/26 09:00:00, 2017/5/26 10:00:00, 2017/5/26 11:00:00, 2017/5/26 12:00:00, 2017/5/26 13:00:00, 2017/5/26 14:00:00, 2017/5/26 15:00:00, 2017/5/26 16:00:00, 2017/5/26 17:00:00, 2017/5/26 18:00:00, 2017/5/26 19:00:00, 2017/5/26 20:00:00, 2017/5/26 21:00:00, 2017/5/26 22:00:00, 2017/5/26 23:00:00, 2017/5/27 00:00:00, 2017/5/27 01:00:00, 2017/5/27 02:00:00, 2017/5/27 03:00:00, 2017/5/27 04:00:00, 2017/5/27 05:00:00, 2017/5/27 06:00:00, 2017/5/27 07:00:00, 2017/5/27 08:00:00, 2017/5/27 09:00:00, 2017/5/27 10:00:00, 2017/5/27 11:00:00, 2017/5/27 12:00:00, 2017/5/27 13:00:00, 2017/5/27 14:00:00, 2017/5/27 15:00:00, 2017/5/27 16:00:00, 2017/5/27 17:00:00, 2017/5/27 18:00:00, 2017/5/27 19:00:00, 2017/5/27 20:00:00, 2017/5/27 21:00:00, 2017/5/27 22:00:00, 2017/5/27 23:00:00, 2017/5/28 00:00:00, 2017/5/28 01:00:00, 2017/5/28 02:00:00, 2017/5/28 03:00:00, 2017/5/28 04:00:00, 2017/5/28 05:00:00, 2017/5/28 06:00:00, 2017/5/28 07:00:00, 2017/5/28 08:00:00, 2017/5/28 09:00:00, 2017/5/28 10:00:00, 2017/5/28 11:00:00, 2017/5/28 12:00:00, 2017/5/28 13:00:00, 2017/5/28 14:00:00, 2017/5/28 15:00:00, 2017/5/28 16:00:00, 2017/5/28 17:00:00, 2017/5/28 18:00:00, 2017/5/28 19:00:00, 2017/5/28 20:00:00, 2017/5/28 21:00:00, 2017/5/28 22:00:00, 2017/5/28 23:00:00, 2017/5/29 00:00:00, 2017/5/29 01:00:00, 2017/5/29 02:00:00, 2017/5/29 03:00:00, ...]\n",
       "\n",
       "[351 rows x 0 columns]"
      ]
     },
     "execution_count": 735,
     "metadata": {},
     "output_type": "execute_result"
    }
   ],
   "source": [
    "test"
   ]
  },
  {
   "cell_type": "code",
   "execution_count": 738,
   "metadata": {},
   "outputs": [
    {
     "data": {
      "text/html": [
       "<div>\n",
       "<style scoped>\n",
       "    .dataframe tbody tr th:only-of-type {\n",
       "        vertical-align: middle;\n",
       "    }\n",
       "\n",
       "    .dataframe tbody tr th {\n",
       "        vertical-align: top;\n",
       "    }\n",
       "\n",
       "    .dataframe thead th {\n",
       "        text-align: right;\n",
       "    }\n",
       "</style>\n",
       "<table border=\"1\" class=\"dataframe\">\n",
       "  <thead>\n",
       "    <tr style=\"text-align: right;\">\n",
       "      <th></th>\n",
       "      <th>0</th>\n",
       "    </tr>\n",
       "  </thead>\n",
       "  <tbody>\n",
       "    <tr>\n",
       "      <td>2017/12/25 00:00:00</td>\n",
       "      <td>130.788210</td>\n",
       "    </tr>\n",
       "    <tr>\n",
       "      <td>2017/12/25 01:00:00</td>\n",
       "      <td>130.788210</td>\n",
       "    </tr>\n",
       "    <tr>\n",
       "      <td>2017/12/25 02:00:00</td>\n",
       "      <td>101.809057</td>\n",
       "    </tr>\n",
       "    <tr>\n",
       "      <td>2017/12/25 03:00:00</td>\n",
       "      <td>100.791206</td>\n",
       "    </tr>\n",
       "    <tr>\n",
       "      <td>2017/12/25 04:00:00</td>\n",
       "      <td>113.337762</td>\n",
       "    </tr>\n",
       "    <tr>\n",
       "      <td>...</td>\n",
       "      <td>...</td>\n",
       "    </tr>\n",
       "    <tr>\n",
       "      <td>2017/5/31 19:00:00</td>\n",
       "      <td>74.712696</td>\n",
       "    </tr>\n",
       "    <tr>\n",
       "      <td>2017/5/31 20:00:00</td>\n",
       "      <td>60.406625</td>\n",
       "    </tr>\n",
       "    <tr>\n",
       "      <td>2017/5/31 21:00:00</td>\n",
       "      <td>71.406672</td>\n",
       "    </tr>\n",
       "    <tr>\n",
       "      <td>2017/5/31 22:00:00</td>\n",
       "      <td>90.734549</td>\n",
       "    </tr>\n",
       "    <tr>\n",
       "      <td>2017/5/31 23:00:00</td>\n",
       "      <td>90.734549</td>\n",
       "    </tr>\n",
       "  </tbody>\n",
       "</table>\n",
       "<p>351 rows × 1 columns</p>\n",
       "</div>"
      ],
      "text/plain": [
       "                              0\n",
       "2017/12/25 00:00:00  130.788210\n",
       "2017/12/25 01:00:00  130.788210\n",
       "2017/12/25 02:00:00  101.809057\n",
       "2017/12/25 03:00:00  100.791206\n",
       "2017/12/25 04:00:00  113.337762\n",
       "...                         ...\n",
       "2017/5/31 19:00:00    74.712696\n",
       "2017/5/31 20:00:00    60.406625\n",
       "2017/5/31 21:00:00    71.406672\n",
       "2017/5/31 22:00:00    90.734549\n",
       "2017/5/31 23:00:00    90.734549\n",
       "\n",
       "[351 rows x 1 columns]"
      ]
     },
     "execution_count": 738,
     "metadata": {},
     "output_type": "execute_result"
    }
   ],
   "source": [
    "test.join(pd.concat([dateNew,pd.DataFrame(pred[0])],axis=1,sort=True).set_index('date'))"
   ]
  },
  {
   "cell_type": "code",
   "execution_count": 686,
   "metadata": {},
   "outputs": [
    {
     "data": {
      "text/html": [
       "<div>\n",
       "<style scoped>\n",
       "    .dataframe tbody tr th:only-of-type {\n",
       "        vertical-align: middle;\n",
       "    }\n",
       "\n",
       "    .dataframe tbody tr th {\n",
       "        vertical-align: top;\n",
       "    }\n",
       "\n",
       "    .dataframe thead th {\n",
       "        text-align: right;\n",
       "    }\n",
       "</style>\n",
       "<table border=\"1\" class=\"dataframe\">\n",
       "  <thead>\n",
       "    <tr style=\"text-align: right;\">\n",
       "      <th></th>\n",
       "    </tr>\n",
       "    <tr>\n",
       "      <th>DAY_HOUR</th>\n",
       "    </tr>\n",
       "  </thead>\n",
       "  <tbody>\n",
       "    <tr>\n",
       "      <td>2017/5/25 00:xx</td>\n",
       "    </tr>\n",
       "    <tr>\n",
       "      <td>2017/5/25 01:xx</td>\n",
       "    </tr>\n",
       "    <tr>\n",
       "      <td>2017/5/25 02:xx</td>\n",
       "    </tr>\n",
       "    <tr>\n",
       "      <td>2017/5/25 03:xx</td>\n",
       "    </tr>\n",
       "    <tr>\n",
       "      <td>2017/5/25 04:xx</td>\n",
       "    </tr>\n",
       "    <tr>\n",
       "      <td>...</td>\n",
       "    </tr>\n",
       "    <tr>\n",
       "      <td>2017/12/31 20:xx</td>\n",
       "    </tr>\n",
       "    <tr>\n",
       "      <td>2017/12/31 21:xx</td>\n",
       "    </tr>\n",
       "    <tr>\n",
       "      <td>2017/12/31 22:xx</td>\n",
       "    </tr>\n",
       "    <tr>\n",
       "      <td>2017/12/31 23:xx</td>\n",
       "    </tr>\n",
       "    <tr>\n",
       "      <td>2017/12/31 23:xx</td>\n",
       "    </tr>\n",
       "  </tbody>\n",
       "</table>\n",
       "<p>354 rows × 0 columns</p>\n",
       "</div>"
      ],
      "text/plain": [
       "Empty DataFrame\n",
       "Columns: []\n",
       "Index: [2017/5/25 00:xx, 2017/5/25 01:xx, 2017/5/25 02:xx, 2017/5/25 03:xx, 2017/5/25 04:xx, 2017/5/25 05:xx, 2017/5/25 06:xx, 2017/5/25 07:xx, 2017/5/25 08:xx, 2017/5/25 09:xx, 2017/5/25 10:xx, 2017/5/25 11:xx, 2017/5/25 12:xx, 2017/5/25 13:xx, 2017/5/25 14:xx, 2017/5/25 15:xx, 2017/5/25 16:xx, 2017/5/25 17:xx, 2017/5/25 18:xx, 2017/5/25 19:xx, 2017/5/25 20:xx, 2017/5/25 21:xx, 2017/5/25 22:xx, 2017/5/25 23:xx, 2017/5/26 00:xx, 2017/5/26 01:xx, 2017/5/26 02:xx, 2017/5/26 03:xx, 2017/5/26 04:xx, 2017/5/26 05:xx, 2017/5/26 06:xx, 2017/5/26 07:xx, 2017/5/26 08:xx, 2017/5/26 09:xx, 2017/5/26 10:xx, 2017/5/26 11:xx, 2017/5/26 12:xx, 2017/5/26 13:xx, 2017/5/26 14:xx, 2017/5/26 15:xx, 2017/5/26 16:xx, 2017/5/26 17:xx, 2017/5/26 18:xx, 2017/5/26 19:xx, 2017/5/26 20:xx, 2017/5/26 21:xx, 2017/5/26 22:xx, 2017/5/26 23:xx, 2017/5/27 00:xx, 2017/5/27 01:xx, 2017/5/27 02:xx, 2017/5/27 03:xx, 2017/5/27 04:xx, 2017/5/27 05:xx, 2017/5/27 06:xx, 2017/5/27 07:xx, 2017/5/27 08:xx, 2017/5/27 09:xx, 2017/5/27 10:xx, 2017/5/27 11:xx, 2017/5/27 12:xx, 2017/5/27 13:xx, 2017/5/27 14:xx, 2017/5/27 15:xx, 2017/5/27 16:xx, 2017/5/27 17:xx, 2017/5/27 18:xx, 2017/5/27 19:xx, 2017/5/27 20:xx, 2017/5/27 21:xx, 2017/5/27 22:xx, 2017/5/27 23:xx, 2017/5/28 00:xx, 2017/5/28 01:xx, 2017/5/28 02:xx, 2017/5/28 03:xx, 2017/5/28 04:xx, 2017/5/28 05:xx, 2017/5/28 06:xx, 2017/5/28 07:xx, 2017/5/28 08:xx, 2017/5/28 09:xx, 2017/5/28 10:xx, 2017/5/28 11:xx, 2017/5/28 12:xx, 2017/5/28 13:xx, 2017/5/28 14:xx, 2017/5/28 15:xx, 2017/5/28 16:xx, 2017/5/28 17:xx, 2017/5/28 18:xx, 2017/5/28 19:xx, 2017/5/28 20:xx, 2017/5/28 21:xx, 2017/5/28 22:xx, 2017/5/28 23:xx, 2017/5/29 00:xx, 2017/5/29 01:xx, 2017/5/29 02:xx, 2017/5/29 03:xx, ...]\n",
       "\n",
       "[354 rows x 0 columns]"
      ]
     },
     "execution_count": 686,
     "metadata": {},
     "output_type": "execute_result"
    }
   ],
   "source": [
    "dataIndex"
   ]
  },
  {
   "cell_type": "code",
   "execution_count": 739,
   "metadata": {},
   "outputs": [
    {
     "data": {
      "text/html": [
       "<div>\n",
       "<style scoped>\n",
       "    .dataframe tbody tr th:only-of-type {\n",
       "        vertical-align: middle;\n",
       "    }\n",
       "\n",
       "    .dataframe tbody tr th {\n",
       "        vertical-align: top;\n",
       "    }\n",
       "\n",
       "    .dataframe thead th {\n",
       "        text-align: right;\n",
       "    }\n",
       "</style>\n",
       "<table border=\"1\" class=\"dataframe\">\n",
       "  <thead>\n",
       "    <tr style=\"text-align: right;\">\n",
       "      <th></th>\n",
       "      <th>0</th>\n",
       "    </tr>\n",
       "  </thead>\n",
       "  <tbody>\n",
       "    <tr>\n",
       "      <td>2017/12/25 00:00:00</td>\n",
       "      <td>130.788210</td>\n",
       "    </tr>\n",
       "    <tr>\n",
       "      <td>2017/12/25 01:00:00</td>\n",
       "      <td>130.788210</td>\n",
       "    </tr>\n",
       "    <tr>\n",
       "      <td>2017/12/25 02:00:00</td>\n",
       "      <td>101.809057</td>\n",
       "    </tr>\n",
       "    <tr>\n",
       "      <td>2017/12/25 03:00:00</td>\n",
       "      <td>100.791206</td>\n",
       "    </tr>\n",
       "    <tr>\n",
       "      <td>2017/12/25 04:00:00</td>\n",
       "      <td>113.337762</td>\n",
       "    </tr>\n",
       "    <tr>\n",
       "      <td>...</td>\n",
       "      <td>...</td>\n",
       "    </tr>\n",
       "    <tr>\n",
       "      <td>2017/5/31 19:00:00</td>\n",
       "      <td>74.712696</td>\n",
       "    </tr>\n",
       "    <tr>\n",
       "      <td>2017/5/31 20:00:00</td>\n",
       "      <td>60.406625</td>\n",
       "    </tr>\n",
       "    <tr>\n",
       "      <td>2017/5/31 21:00:00</td>\n",
       "      <td>71.406672</td>\n",
       "    </tr>\n",
       "    <tr>\n",
       "      <td>2017/5/31 22:00:00</td>\n",
       "      <td>90.734549</td>\n",
       "    </tr>\n",
       "    <tr>\n",
       "      <td>2017/5/31 23:00:00</td>\n",
       "      <td>90.734549</td>\n",
       "    </tr>\n",
       "  </tbody>\n",
       "</table>\n",
       "<p>351 rows × 1 columns</p>\n",
       "</div>"
      ],
      "text/plain": [
       "                              0\n",
       "2017/12/25 00:00:00  130.788210\n",
       "2017/12/25 01:00:00  130.788210\n",
       "2017/12/25 02:00:00  101.809057\n",
       "2017/12/25 03:00:00  100.791206\n",
       "2017/12/25 04:00:00  113.337762\n",
       "...                         ...\n",
       "2017/5/31 19:00:00    74.712696\n",
       "2017/5/31 20:00:00    60.406625\n",
       "2017/5/31 21:00:00    71.406672\n",
       "2017/5/31 22:00:00    90.734549\n",
       "2017/5/31 23:00:00    90.734549\n",
       "\n",
       "[351 rows x 1 columns]"
      ]
     },
     "execution_count": 739,
     "metadata": {},
     "output_type": "execute_result"
    }
   ],
   "source": [
    "test.join(pd.concat([dateNew,pd.DataFrame(pred[0])],axis=1,sort=True).set_index('date'))"
   ]
  },
  {
   "cell_type": "code",
   "execution_count": 743,
   "metadata": {},
   "outputs": [
    {
     "data": {
      "text/html": [
       "<div>\n",
       "<style scoped>\n",
       "    .dataframe tbody tr th:only-of-type {\n",
       "        vertical-align: middle;\n",
       "    }\n",
       "\n",
       "    .dataframe tbody tr th {\n",
       "        vertical-align: top;\n",
       "    }\n",
       "\n",
       "    .dataframe thead th {\n",
       "        text-align: right;\n",
       "    }\n",
       "</style>\n",
       "<table border=\"1\" class=\"dataframe\">\n",
       "  <thead>\n",
       "    <tr style=\"text-align: right;\">\n",
       "      <th></th>\n",
       "      <th>0</th>\n",
       "    </tr>\n",
       "  </thead>\n",
       "  <tbody>\n",
       "    <tr>\n",
       "      <td>0</td>\n",
       "      <td>0</td>\n",
       "    </tr>\n",
       "    <tr>\n",
       "      <td>1</td>\n",
       "      <td>1</td>\n",
       "    </tr>\n",
       "    <tr>\n",
       "      <td>2</td>\n",
       "      <td>2</td>\n",
       "    </tr>\n",
       "    <tr>\n",
       "      <td>3</td>\n",
       "      <td>3</td>\n",
       "    </tr>\n",
       "    <tr>\n",
       "      <td>4</td>\n",
       "      <td>4</td>\n",
       "    </tr>\n",
       "    <tr>\n",
       "      <td>5</td>\n",
       "      <td>5</td>\n",
       "    </tr>\n",
       "  </tbody>\n",
       "</table>\n",
       "</div>"
      ],
      "text/plain": [
       "   0\n",
       "0  0\n",
       "1  1\n",
       "2  2\n",
       "3  3\n",
       "4  4\n",
       "5  5"
      ]
     },
     "execution_count": 743,
     "metadata": {},
     "output_type": "execute_result"
    }
   ],
   "source": [
    "pd.DataFrame(range(6))"
   ]
  },
  {
   "cell_type": "code",
   "execution_count": 745,
   "metadata": {},
   "outputs": [
    {
     "data": {
      "text/html": [
       "<div>\n",
       "<style scoped>\n",
       "    .dataframe tbody tr th:only-of-type {\n",
       "        vertical-align: middle;\n",
       "    }\n",
       "\n",
       "    .dataframe tbody tr th {\n",
       "        vertical-align: top;\n",
       "    }\n",
       "\n",
       "    .dataframe thead th {\n",
       "        text-align: right;\n",
       "    }\n",
       "</style>\n",
       "<table border=\"1\" class=\"dataframe\">\n",
       "  <thead>\n",
       "    <tr style=\"text-align: right;\">\n",
       "      <th></th>\n",
       "      <th>0</th>\n",
       "    </tr>\n",
       "  </thead>\n",
       "  <tbody>\n",
       "    <tr>\n",
       "      <td>2017/12/25 00:00:00</td>\n",
       "      <td>NaN</td>\n",
       "    </tr>\n",
       "    <tr>\n",
       "      <td>2017/12/25 01:00:00</td>\n",
       "      <td>NaN</td>\n",
       "    </tr>\n",
       "    <tr>\n",
       "      <td>2017/12/25 02:00:00</td>\n",
       "      <td>NaN</td>\n",
       "    </tr>\n",
       "    <tr>\n",
       "      <td>2017/12/25 03:00:00</td>\n",
       "      <td>NaN</td>\n",
       "    </tr>\n",
       "    <tr>\n",
       "      <td>2017/12/25 04:00:00</td>\n",
       "      <td>NaN</td>\n",
       "    </tr>\n",
       "    <tr>\n",
       "      <td>...</td>\n",
       "      <td>...</td>\n",
       "    </tr>\n",
       "    <tr>\n",
       "      <td>2017/5/31 19:00:00</td>\n",
       "      <td>NaN</td>\n",
       "    </tr>\n",
       "    <tr>\n",
       "      <td>2017/5/31 20:00:00</td>\n",
       "      <td>NaN</td>\n",
       "    </tr>\n",
       "    <tr>\n",
       "      <td>2017/5/31 21:00:00</td>\n",
       "      <td>NaN</td>\n",
       "    </tr>\n",
       "    <tr>\n",
       "      <td>2017/5/31 22:00:00</td>\n",
       "      <td>NaN</td>\n",
       "    </tr>\n",
       "    <tr>\n",
       "      <td>2017/5/31 23:00:00</td>\n",
       "      <td>NaN</td>\n",
       "    </tr>\n",
       "  </tbody>\n",
       "</table>\n",
       "<p>351 rows × 1 columns</p>\n",
       "</div>"
      ],
      "text/plain": [
       "                      0\n",
       "2017/12/25 00:00:00 NaN\n",
       "2017/12/25 01:00:00 NaN\n",
       "2017/12/25 02:00:00 NaN\n",
       "2017/12/25 03:00:00 NaN\n",
       "2017/12/25 04:00:00 NaN\n",
       "...                  ..\n",
       "2017/5/31 19:00:00  NaN\n",
       "2017/5/31 20:00:00  NaN\n",
       "2017/5/31 21:00:00  NaN\n",
       "2017/5/31 22:00:00  NaN\n",
       "2017/5/31 23:00:00  NaN\n",
       "\n",
       "[351 rows x 1 columns]"
      ]
     },
     "execution_count": 745,
     "metadata": {},
     "output_type": "execute_result"
    }
   ],
   "source": [
    "test.join(pd.DataFrame(range(6)))"
   ]
  },
  {
   "cell_type": "code",
   "execution_count": null,
   "metadata": {},
   "outputs": [],
   "source": []
  }
 ],
 "metadata": {
  "kernelspec": {
   "display_name": "Python 3",
   "language": "python",
   "name": "python3"
  },
  "language_info": {
   "codemirror_mode": {
    "name": "ipython",
    "version": 3
   },
   "file_extension": ".py",
   "mimetype": "text/x-python",
   "name": "python",
   "nbconvert_exporter": "python",
   "pygments_lexer": "ipython3",
   "version": "3.7.4"
  }
 },
 "nbformat": 4,
 "nbformat_minor": 2
}
