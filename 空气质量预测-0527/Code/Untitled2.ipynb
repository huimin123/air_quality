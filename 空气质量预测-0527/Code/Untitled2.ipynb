{
 "cells": [
  {
   "cell_type": "code",
   "execution_count": 1,
   "metadata": {},
   "outputs": [],
   "source": [
    "import pandas as pd\n",
    "import numpy as np\n",
    "import glob"
   ]
  },
  {
   "cell_type": "code",
   "execution_count": 2,
   "metadata": {},
   "outputs": [
    {
     "data": {
      "text/plain": [
       "['../train/train_三瓦窑.csv',\n",
       " '../train/train_龙泉驿区政府.csv',\n",
       " '../train/train_金泉两河.csv',\n",
       " '../train/train_灵岩寺.csv',\n",
       " '../train/train_君平街.csv',\n",
       " '../train/train_十里店.csv',\n",
       " '../train/train_沙河铺.csv',\n",
       " '../train/train_大石西路.csv']"
      ]
     },
     "execution_count": 2,
     "metadata": {},
     "output_type": "execute_result"
    }
   ],
   "source": [
    "file=glob.glob('../train/*.csv')\n",
    "file"
   ]
  },
  {
   "cell_type": "code",
   "execution_count": 3,
   "metadata": {},
   "outputs": [],
   "source": [
    "data=pd.read_csv(file[0])"
   ]
  },
  {
   "cell_type": "code",
   "execution_count": 4,
   "metadata": {},
   "outputs": [
    {
     "data": {
      "text/html": [
       "<div>\n",
       "<style scoped>\n",
       "    .dataframe tbody tr th:only-of-type {\n",
       "        vertical-align: middle;\n",
       "    }\n",
       "\n",
       "    .dataframe tbody tr th {\n",
       "        vertical-align: top;\n",
       "    }\n",
       "\n",
       "    .dataframe thead th {\n",
       "        text-align: right;\n",
       "    }\n",
       "</style>\n",
       "<table border=\"1\" class=\"dataframe\">\n",
       "  <thead>\n",
       "    <tr style=\"text-align: right;\">\n",
       "      <th></th>\n",
       "      <th>MN_</th>\n",
       "      <th>DATA_TIME_</th>\n",
       "      <th>C_SO2_1H</th>\n",
       "      <th>I_SO2_1H</th>\n",
       "      <th>C_NO2_1H</th>\n",
       "      <th>I_NO2_1H</th>\n",
       "      <th>C_PM10_1H</th>\n",
       "      <th>C_PM10_24H_MV</th>\n",
       "      <th>I_PM10_24H_MV</th>\n",
       "      <th>C_CO1_1H</th>\n",
       "      <th>...</th>\n",
       "      <th>C_PM25_24H_MV</th>\n",
       "      <th>I_PM25_24H_MV</th>\n",
       "      <th>AQI_</th>\n",
       "      <th>PRIMARY_POLLUTANTS_</th>\n",
       "      <th>LEVEL_</th>\n",
       "      <th>CATEGORY_</th>\n",
       "      <th>COLOR_</th>\n",
       "      <th>STATE_</th>\n",
       "      <th>SOURCE_</th>\n",
       "      <th>UPDATE_TIME_</th>\n",
       "    </tr>\n",
       "  </thead>\n",
       "  <tbody>\n",
       "    <tr>\n",
       "      <td>0</td>\n",
       "      <td>51010901001</td>\n",
       "      <td>2017/1/1 01:00:00</td>\n",
       "      <td>33.0</td>\n",
       "      <td>11.0</td>\n",
       "      <td>126.0</td>\n",
       "      <td>63.0</td>\n",
       "      <td>279.0</td>\n",
       "      <td>NaN</td>\n",
       "      <td>165.0</td>\n",
       "      <td>1.875</td>\n",
       "      <td>...</td>\n",
       "      <td>NaN</td>\n",
       "      <td>227.0</td>\n",
       "      <td>227.0</td>\n",
       "      <td>PM2.5</td>\n",
       "      <td>五级</td>\n",
       "      <td>重度污染</td>\n",
       "      <td>紫色</td>\n",
       "      <td>正常</td>\n",
       "      <td>NaN</td>\n",
       "      <td>2017/1/1 02:15:00</td>\n",
       "    </tr>\n",
       "    <tr>\n",
       "      <td>1</td>\n",
       "      <td>51010901001</td>\n",
       "      <td>2017/1/1 02:00:00</td>\n",
       "      <td>34.0</td>\n",
       "      <td>12.0</td>\n",
       "      <td>125.0</td>\n",
       "      <td>63.0</td>\n",
       "      <td>302.0</td>\n",
       "      <td>NaN</td>\n",
       "      <td>176.0</td>\n",
       "      <td>1.997</td>\n",
       "      <td>...</td>\n",
       "      <td>NaN</td>\n",
       "      <td>235.0</td>\n",
       "      <td>235.0</td>\n",
       "      <td>PM2.5</td>\n",
       "      <td>五级</td>\n",
       "      <td>重度污染</td>\n",
       "      <td>紫色</td>\n",
       "      <td>正常</td>\n",
       "      <td>NaN</td>\n",
       "      <td>2017/1/1 03:15:00</td>\n",
       "    </tr>\n",
       "    <tr>\n",
       "      <td>2</td>\n",
       "      <td>51010901001</td>\n",
       "      <td>2017/1/1 03:00:00</td>\n",
       "      <td>32.0</td>\n",
       "      <td>11.0</td>\n",
       "      <td>121.0</td>\n",
       "      <td>61.0</td>\n",
       "      <td>308.0</td>\n",
       "      <td>NaN</td>\n",
       "      <td>179.0</td>\n",
       "      <td>1.952</td>\n",
       "      <td>...</td>\n",
       "      <td>NaN</td>\n",
       "      <td>275.0</td>\n",
       "      <td>275.0</td>\n",
       "      <td>PM2.5</td>\n",
       "      <td>五级</td>\n",
       "      <td>重度污染</td>\n",
       "      <td>紫色</td>\n",
       "      <td>正常</td>\n",
       "      <td>NaN</td>\n",
       "      <td>2017/1/1 04:15:00</td>\n",
       "    </tr>\n",
       "    <tr>\n",
       "      <td>3</td>\n",
       "      <td>51010901001</td>\n",
       "      <td>2017/1/1 04:00:00</td>\n",
       "      <td>36.0</td>\n",
       "      <td>12.0</td>\n",
       "      <td>118.0</td>\n",
       "      <td>59.0</td>\n",
       "      <td>366.0</td>\n",
       "      <td>NaN</td>\n",
       "      <td>223.0</td>\n",
       "      <td>1.878</td>\n",
       "      <td>...</td>\n",
       "      <td>NaN</td>\n",
       "      <td>276.0</td>\n",
       "      <td>276.0</td>\n",
       "      <td>PM2.5</td>\n",
       "      <td>五级</td>\n",
       "      <td>重度污染</td>\n",
       "      <td>紫色</td>\n",
       "      <td>正常</td>\n",
       "      <td>NaN</td>\n",
       "      <td>2017/1/1 05:15:00</td>\n",
       "    </tr>\n",
       "    <tr>\n",
       "      <td>4</td>\n",
       "      <td>51010901001</td>\n",
       "      <td>2017/1/1 05:00:00</td>\n",
       "      <td>37.0</td>\n",
       "      <td>13.0</td>\n",
       "      <td>110.0</td>\n",
       "      <td>55.0</td>\n",
       "      <td>394.0</td>\n",
       "      <td>NaN</td>\n",
       "      <td>263.0</td>\n",
       "      <td>1.833</td>\n",
       "      <td>...</td>\n",
       "      <td>NaN</td>\n",
       "      <td>271.0</td>\n",
       "      <td>271.0</td>\n",
       "      <td>PM2.5</td>\n",
       "      <td>五级</td>\n",
       "      <td>重度污染</td>\n",
       "      <td>紫色</td>\n",
       "      <td>正常</td>\n",
       "      <td>NaN</td>\n",
       "      <td>2017/1/1 06:15:00</td>\n",
       "    </tr>\n",
       "    <tr>\n",
       "      <td>...</td>\n",
       "      <td>...</td>\n",
       "      <td>...</td>\n",
       "      <td>...</td>\n",
       "      <td>...</td>\n",
       "      <td>...</td>\n",
       "      <td>...</td>\n",
       "      <td>...</td>\n",
       "      <td>...</td>\n",
       "      <td>...</td>\n",
       "      <td>...</td>\n",
       "      <td>...</td>\n",
       "      <td>...</td>\n",
       "      <td>...</td>\n",
       "      <td>...</td>\n",
       "      <td>...</td>\n",
       "      <td>...</td>\n",
       "      <td>...</td>\n",
       "      <td>...</td>\n",
       "      <td>...</td>\n",
       "      <td>...</td>\n",
       "      <td>...</td>\n",
       "    </tr>\n",
       "    <tr>\n",
       "      <td>8375</td>\n",
       "      <td>51010901001</td>\n",
       "      <td>2017/12/24 19:00:00</td>\n",
       "      <td>7.0</td>\n",
       "      <td>3.0</td>\n",
       "      <td>119.0</td>\n",
       "      <td>60.0</td>\n",
       "      <td>219.0</td>\n",
       "      <td>NaN</td>\n",
       "      <td>135.0</td>\n",
       "      <td>1.167</td>\n",
       "      <td>...</td>\n",
       "      <td>NaN</td>\n",
       "      <td>212.0</td>\n",
       "      <td>212.0</td>\n",
       "      <td>PM2.5</td>\n",
       "      <td>五级</td>\n",
       "      <td>重度污染</td>\n",
       "      <td>紫色</td>\n",
       "      <td>正常</td>\n",
       "      <td>NaN</td>\n",
       "      <td>2017/12/24 19:40:00</td>\n",
       "    </tr>\n",
       "    <tr>\n",
       "      <td>8376</td>\n",
       "      <td>51010901001</td>\n",
       "      <td>2017/12/24 20:00:00</td>\n",
       "      <td>6.0</td>\n",
       "      <td>2.0</td>\n",
       "      <td>131.0</td>\n",
       "      <td>66.0</td>\n",
       "      <td>223.0</td>\n",
       "      <td>NaN</td>\n",
       "      <td>137.0</td>\n",
       "      <td>1.229</td>\n",
       "      <td>...</td>\n",
       "      <td>NaN</td>\n",
       "      <td>215.0</td>\n",
       "      <td>215.0</td>\n",
       "      <td>PM2.5</td>\n",
       "      <td>五级</td>\n",
       "      <td>重度污染</td>\n",
       "      <td>紫色</td>\n",
       "      <td>正常</td>\n",
       "      <td>NaN</td>\n",
       "      <td>2017/12/24 20:20:00</td>\n",
       "    </tr>\n",
       "    <tr>\n",
       "      <td>8377</td>\n",
       "      <td>51010901001</td>\n",
       "      <td>2017/12/24 21:00:00</td>\n",
       "      <td>5.0</td>\n",
       "      <td>2.0</td>\n",
       "      <td>133.0</td>\n",
       "      <td>67.0</td>\n",
       "      <td>223.0</td>\n",
       "      <td>NaN</td>\n",
       "      <td>137.0</td>\n",
       "      <td>1.360</td>\n",
       "      <td>...</td>\n",
       "      <td>NaN</td>\n",
       "      <td>218.0</td>\n",
       "      <td>218.0</td>\n",
       "      <td>PM2.5</td>\n",
       "      <td>五级</td>\n",
       "      <td>重度污染</td>\n",
       "      <td>紫色</td>\n",
       "      <td>正常</td>\n",
       "      <td>NaN</td>\n",
       "      <td>2017/12/24 21:20:00</td>\n",
       "    </tr>\n",
       "    <tr>\n",
       "      <td>8378</td>\n",
       "      <td>51010901001</td>\n",
       "      <td>2017/12/24 22:00:00</td>\n",
       "      <td>8.0</td>\n",
       "      <td>3.0</td>\n",
       "      <td>137.0</td>\n",
       "      <td>69.0</td>\n",
       "      <td>243.0</td>\n",
       "      <td>NaN</td>\n",
       "      <td>147.0</td>\n",
       "      <td>1.692</td>\n",
       "      <td>...</td>\n",
       "      <td>NaN</td>\n",
       "      <td>233.0</td>\n",
       "      <td>233.0</td>\n",
       "      <td>PM2.5</td>\n",
       "      <td>五级</td>\n",
       "      <td>重度污染</td>\n",
       "      <td>紫色</td>\n",
       "      <td>正常</td>\n",
       "      <td>NaN</td>\n",
       "      <td>2017/12/24 23:00:00</td>\n",
       "    </tr>\n",
       "    <tr>\n",
       "      <td>8379</td>\n",
       "      <td>51010901001</td>\n",
       "      <td>2017/12/24 23:00:00</td>\n",
       "      <td>12.0</td>\n",
       "      <td>4.0</td>\n",
       "      <td>125.0</td>\n",
       "      <td>63.0</td>\n",
       "      <td>247.0</td>\n",
       "      <td>NaN</td>\n",
       "      <td>149.0</td>\n",
       "      <td>2.088</td>\n",
       "      <td>...</td>\n",
       "      <td>NaN</td>\n",
       "      <td>237.0</td>\n",
       "      <td>237.0</td>\n",
       "      <td>PM2.5</td>\n",
       "      <td>五级</td>\n",
       "      <td>重度污染</td>\n",
       "      <td>紫色</td>\n",
       "      <td>正常</td>\n",
       "      <td>NaN</td>\n",
       "      <td>2017/12/24 23:20:00</td>\n",
       "    </tr>\n",
       "  </tbody>\n",
       "</table>\n",
       "<p>8380 rows × 26 columns</p>\n",
       "</div>"
      ],
      "text/plain": [
       "              MN_           DATA_TIME_  C_SO2_1H  I_SO2_1H  C_NO2_1H  \\\n",
       "0     51010901001    2017/1/1 01:00:00      33.0      11.0     126.0   \n",
       "1     51010901001    2017/1/1 02:00:00      34.0      12.0     125.0   \n",
       "2     51010901001    2017/1/1 03:00:00      32.0      11.0     121.0   \n",
       "3     51010901001    2017/1/1 04:00:00      36.0      12.0     118.0   \n",
       "4     51010901001    2017/1/1 05:00:00      37.0      13.0     110.0   \n",
       "...           ...                  ...       ...       ...       ...   \n",
       "8375  51010901001  2017/12/24 19:00:00       7.0       3.0     119.0   \n",
       "8376  51010901001  2017/12/24 20:00:00       6.0       2.0     131.0   \n",
       "8377  51010901001  2017/12/24 21:00:00       5.0       2.0     133.0   \n",
       "8378  51010901001  2017/12/24 22:00:00       8.0       3.0     137.0   \n",
       "8379  51010901001  2017/12/24 23:00:00      12.0       4.0     125.0   \n",
       "\n",
       "      I_NO2_1H  C_PM10_1H  C_PM10_24H_MV  I_PM10_24H_MV  C_CO1_1H  ...  \\\n",
       "0         63.0      279.0            NaN          165.0     1.875  ...   \n",
       "1         63.0      302.0            NaN          176.0     1.997  ...   \n",
       "2         61.0      308.0            NaN          179.0     1.952  ...   \n",
       "3         59.0      366.0            NaN          223.0     1.878  ...   \n",
       "4         55.0      394.0            NaN          263.0     1.833  ...   \n",
       "...        ...        ...            ...            ...       ...  ...   \n",
       "8375      60.0      219.0            NaN          135.0     1.167  ...   \n",
       "8376      66.0      223.0            NaN          137.0     1.229  ...   \n",
       "8377      67.0      223.0            NaN          137.0     1.360  ...   \n",
       "8378      69.0      243.0            NaN          147.0     1.692  ...   \n",
       "8379      63.0      247.0            NaN          149.0     2.088  ...   \n",
       "\n",
       "      C_PM25_24H_MV  I_PM25_24H_MV   AQI_  PRIMARY_POLLUTANTS_  LEVEL_  \\\n",
       "0               NaN          227.0  227.0                PM2.5      五级   \n",
       "1               NaN          235.0  235.0                PM2.5      五级   \n",
       "2               NaN          275.0  275.0                PM2.5      五级   \n",
       "3               NaN          276.0  276.0                PM2.5      五级   \n",
       "4               NaN          271.0  271.0                PM2.5      五级   \n",
       "...             ...            ...    ...                  ...     ...   \n",
       "8375            NaN          212.0  212.0                PM2.5      五级   \n",
       "8376            NaN          215.0  215.0                PM2.5      五级   \n",
       "8377            NaN          218.0  218.0                PM2.5      五级   \n",
       "8378            NaN          233.0  233.0                PM2.5      五级   \n",
       "8379            NaN          237.0  237.0                PM2.5      五级   \n",
       "\n",
       "      CATEGORY_  COLOR_  STATE_  SOURCE_         UPDATE_TIME_  \n",
       "0          重度污染      紫色      正常      NaN    2017/1/1 02:15:00  \n",
       "1          重度污染      紫色      正常      NaN    2017/1/1 03:15:00  \n",
       "2          重度污染      紫色      正常      NaN    2017/1/1 04:15:00  \n",
       "3          重度污染      紫色      正常      NaN    2017/1/1 05:15:00  \n",
       "4          重度污染      紫色      正常      NaN    2017/1/1 06:15:00  \n",
       "...         ...     ...     ...      ...                  ...  \n",
       "8375       重度污染      紫色      正常      NaN  2017/12/24 19:40:00  \n",
       "8376       重度污染      紫色      正常      NaN  2017/12/24 20:20:00  \n",
       "8377       重度污染      紫色      正常      NaN  2017/12/24 21:20:00  \n",
       "8378       重度污染      紫色      正常      NaN  2017/12/24 23:00:00  \n",
       "8379       重度污染      紫色      正常      NaN  2017/12/24 23:20:00  \n",
       "\n",
       "[8380 rows x 26 columns]"
      ]
     },
     "execution_count": 4,
     "metadata": {},
     "output_type": "execute_result"
    }
   ],
   "source": [
    "data"
   ]
  },
  {
   "cell_type": "code",
   "execution_count": 13,
   "metadata": {},
   "outputs": [
    {
     "data": {
      "text/plain": [
       "191.5"
      ]
     },
     "execution_count": 13,
     "metadata": {},
     "output_type": "execute_result"
    }
   ],
   "source": [
    "sum(data.iloc[0:24,15])/24"
   ]
  },
  {
   "cell_type": "code",
   "execution_count": 17,
   "metadata": {},
   "outputs": [
    {
     "data": {
      "text/plain": [
       "241"
      ]
     },
     "execution_count": 17,
     "metadata": {},
     "output_type": "execute_result"
    }
   ],
   "source": [
    "191-150+200"
   ]
  },
  {
   "cell_type": "code",
   "execution_count": 14,
   "metadata": {},
   "outputs": [
    {
     "data": {
      "text/plain": [
       "193.83333333333334"
      ]
     },
     "execution_count": 14,
     "metadata": {},
     "output_type": "execute_result"
    }
   ],
   "source": [
    "sum(data.iloc[1:25,15])/24"
   ]
  },
  {
   "cell_type": "code",
   "execution_count": 18,
   "metadata": {},
   "outputs": [
    {
     "data": {
      "text/plain": [
       "244"
      ]
     },
     "execution_count": 18,
     "metadata": {},
     "output_type": "execute_result"
    }
   ],
   "source": [
    "194+50"
   ]
  },
  {
   "cell_type": "code",
   "execution_count": 15,
   "metadata": {},
   "outputs": [
    {
     "data": {
      "text/plain": [
       "194.95833333333334"
      ]
     },
     "execution_count": 15,
     "metadata": {},
     "output_type": "execute_result"
    }
   ],
   "source": [
    "sum(data.iloc[2:26,15])/24"
   ]
  },
  {
   "cell_type": "code",
   "execution_count": null,
   "metadata": {},
   "outputs": [],
   "source": [
    "for i in range(10):\n",
    "    a=sum(data.iloc[0+i:24+i,15])/24"
   ]
  },
  {
   "cell_type": "code",
   "execution_count": 20,
   "metadata": {},
   "outputs": [
    {
     "data": {
      "text/plain": [
       "192.85714285714286"
      ]
     },
     "execution_count": 20,
     "metadata": {},
     "output_type": "execute_result"
    }
   ],
   "source": [
    "(145-115)*50/35+150"
   ]
  },
  {
   "cell_type": "code",
   "execution_count": 22,
   "metadata": {},
   "outputs": [
    {
     "data": {
      "text/plain": [
       "176.0"
      ]
     },
     "execution_count": 22,
     "metadata": {},
     "output_type": "execute_result"
    }
   ],
   "source": [
    "0.5*(302-250)+150"
   ]
  },
  {
   "cell_type": "code",
   "execution_count": null,
   "metadata": {},
   "outputs": [],
   "source": []
  }
 ],
 "metadata": {
  "kernelspec": {
   "display_name": "Python 3",
   "language": "python",
   "name": "python3"
  },
  "language_info": {
   "codemirror_mode": {
    "name": "ipython",
    "version": 3
   },
   "file_extension": ".py",
   "mimetype": "text/x-python",
   "name": "python",
   "nbconvert_exporter": "python",
   "pygments_lexer": "ipython3",
   "version": "3.7.4"
  }
 },
 "nbformat": 4,
 "nbformat_minor": 2
}
